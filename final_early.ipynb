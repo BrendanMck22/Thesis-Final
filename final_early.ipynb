{
 "cells": [
  {
   "cell_type": "markdown",
   "metadata": {},
   "source": [
    "## Prediciting Diagnoses : Early Fusion "
   ]
  },
  {
   "cell_type": "markdown",
   "metadata": {},
   "source": [
    "Read in appropiate tables from MIMIC-III\n",
    "* Admissions\n",
    "* Patients\n",
    "* Codes "
   ]
  },
  {
   "cell_type": "code",
   "execution_count": 1,
   "metadata": {},
   "outputs": [],
   "source": [
    "import pandas as pd\n",
    "import numpy as np\n",
    "import matplotlib.pyplot as plt\n",
    "\n",
    "\n",
    "df_admissions = pd.read_csv('mimic_bow/ADMISSIONS.csv')\n",
    "df_patients = pd.read_csv('PATIENTS.csv')\n",
    "df_codes = pd.read_csv('DIAGNOSES_ICD.csv')\n"
   ]
  },
  {
   "cell_type": "code",
   "execution_count": 2,
   "metadata": {},
   "outputs": [],
   "source": [
    "merged_data = pd.merge(df_admissions, df_patients, on='SUBJECT_ID')\n",
    "patients_subset = merged_data['SUBJECT_ID'].unique()[:30000]\n",
    "patients_df_25 = merged_data[df_admissions['SUBJECT_ID'].isin(patients_subset)]\n",
    "## remove newborns\n",
    "patients_df_25 = patients_df_25.loc[patients_df_25.ADMISSION_TYPE != 'NEWBORN'].copy()\n"
   ]
  },
  {
   "cell_type": "markdown",
   "metadata": {},
   "source": [
    "## Structured Dataset Preprocessing"
   ]
  },
  {
   "cell_type": "code",
   "execution_count": 3,
   "metadata": {},
   "outputs": [
    {
     "name": "stderr",
     "output_type": "stream",
     "text": [
      "C:\\Users\\Brendan Mckeown\\AppData\\Local\\Temp\\ipykernel_14684\\850842306.py:5: SettingWithCopyWarning: \n",
      "A value is trying to be set on a copy of a slice from a DataFrame.\n",
      "Try using .loc[row_indexer,col_indexer] = value instead\n",
      "\n",
      "See the caveats in the documentation: https://pandas.pydata.org/pandas-docs/stable/user_guide/indexing.html#returning-a-view-versus-a-copy\n",
      "  demographics_df['DOB'] = pd.to_datetime(demographics_df['DOB']).dt.year\n",
      "C:\\Users\\Brendan Mckeown\\AppData\\Local\\Temp\\ipykernel_14684\\850842306.py:6: SettingWithCopyWarning: \n",
      "A value is trying to be set on a copy of a slice from a DataFrame.\n",
      "Try using .loc[row_indexer,col_indexer] = value instead\n",
      "\n",
      "See the caveats in the documentation: https://pandas.pydata.org/pandas-docs/stable/user_guide/indexing.html#returning-a-view-versus-a-copy\n",
      "  demographics_df['ADMITTIME'] = pd.to_datetime(demographics_df['ADMITTIME']).dt.year\n",
      "C:\\Users\\Brendan Mckeown\\AppData\\Local\\Temp\\ipykernel_14684\\850842306.py:7: SettingWithCopyWarning: \n",
      "A value is trying to be set on a copy of a slice from a DataFrame.\n",
      "Try using .loc[row_indexer,col_indexer] = value instead\n",
      "\n",
      "See the caveats in the documentation: https://pandas.pydata.org/pandas-docs/stable/user_guide/indexing.html#returning-a-view-versus-a-copy\n",
      "  demographics_df['AGE'] = demographics_df['ADMITTIME'] - demographics_df['DOB']\n"
     ]
    },
    {
     "data": {
      "text/html": [
       "<div>\n",
       "<style scoped>\n",
       "    .dataframe tbody tr th:only-of-type {\n",
       "        vertical-align: middle;\n",
       "    }\n",
       "\n",
       "    .dataframe tbody tr th {\n",
       "        vertical-align: top;\n",
       "    }\n",
       "\n",
       "    .dataframe thead th {\n",
       "        text-align: right;\n",
       "    }\n",
       "</style>\n",
       "<table border=\"1\" class=\"dataframe\">\n",
       "  <thead>\n",
       "    <tr style=\"text-align: right;\">\n",
       "      <th></th>\n",
       "      <th>DIAGNOSIS</th>\n",
       "      <th>GENDER</th>\n",
       "      <th>DOB</th>\n",
       "      <th>ETHNICITY</th>\n",
       "      <th>INSURANCE</th>\n",
       "      <th>ADMITTIME</th>\n",
       "      <th>SUBJECT_ID</th>\n",
       "      <th>AGE</th>\n",
       "    </tr>\n",
       "  </thead>\n",
       "  <tbody>\n",
       "    <tr>\n",
       "      <th>0</th>\n",
       "      <td>BENZODIAZEPINE OVERDOSE</td>\n",
       "      <td>F</td>\n",
       "      <td>2131</td>\n",
       "      <td>WHITE</td>\n",
       "      <td>Private</td>\n",
       "      <td>2196</td>\n",
       "      <td>22</td>\n",
       "      <td>65</td>\n",
       "    </tr>\n",
       "    <tr>\n",
       "      <th>1</th>\n",
       "      <td>CORONARY ARTERY DISEASE\\CORONARY ARTERY BYPASS...</td>\n",
       "      <td>M</td>\n",
       "      <td>2082</td>\n",
       "      <td>WHITE</td>\n",
       "      <td>Medicare</td>\n",
       "      <td>2153</td>\n",
       "      <td>23</td>\n",
       "      <td>71</td>\n",
       "    </tr>\n",
       "    <tr>\n",
       "      <th>2</th>\n",
       "      <td>BRAIN MASS</td>\n",
       "      <td>M</td>\n",
       "      <td>2082</td>\n",
       "      <td>WHITE</td>\n",
       "      <td>Medicare</td>\n",
       "      <td>2157</td>\n",
       "      <td>23</td>\n",
       "      <td>75</td>\n",
       "    </tr>\n",
       "    <tr>\n",
       "      <th>3</th>\n",
       "      <td>INTERIOR MYOCARDIAL INFARCTION</td>\n",
       "      <td>M</td>\n",
       "      <td>2100</td>\n",
       "      <td>WHITE</td>\n",
       "      <td>Private</td>\n",
       "      <td>2139</td>\n",
       "      <td>24</td>\n",
       "      <td>39</td>\n",
       "    </tr>\n",
       "    <tr>\n",
       "      <th>4</th>\n",
       "      <td>ACUTE CORONARY SYNDROME</td>\n",
       "      <td>M</td>\n",
       "      <td>2101</td>\n",
       "      <td>WHITE</td>\n",
       "      <td>Private</td>\n",
       "      <td>2160</td>\n",
       "      <td>25</td>\n",
       "      <td>59</td>\n",
       "    </tr>\n",
       "    <tr>\n",
       "      <th>...</th>\n",
       "      <td>...</td>\n",
       "      <td>...</td>\n",
       "      <td>...</td>\n",
       "      <td>...</td>\n",
       "      <td>...</td>\n",
       "      <td>...</td>\n",
       "      <td>...</td>\n",
       "      <td>...</td>\n",
       "    </tr>\n",
       "    <tr>\n",
       "      <th>38991</th>\n",
       "      <td>ABSCESS</td>\n",
       "      <td>M</td>\n",
       "      <td>2125</td>\n",
       "      <td>MULTI RACE ETHNICITY</td>\n",
       "      <td>Medicaid</td>\n",
       "      <td>2180</td>\n",
       "      <td>30396</td>\n",
       "      <td>55</td>\n",
       "    </tr>\n",
       "    <tr>\n",
       "      <th>39955</th>\n",
       "      <td>CONGESTIVE HEART FAILURE</td>\n",
       "      <td>F</td>\n",
       "      <td>2112</td>\n",
       "      <td>WHITE</td>\n",
       "      <td>Medicaid</td>\n",
       "      <td>2149</td>\n",
       "      <td>32434</td>\n",
       "      <td>37</td>\n",
       "    </tr>\n",
       "    <tr>\n",
       "      <th>39956</th>\n",
       "      <td>FEVER</td>\n",
       "      <td>F</td>\n",
       "      <td>2122</td>\n",
       "      <td>WHITE</td>\n",
       "      <td>Medicare</td>\n",
       "      <td>2192</td>\n",
       "      <td>32435</td>\n",
       "      <td>70</td>\n",
       "    </tr>\n",
       "    <tr>\n",
       "      <th>40052</th>\n",
       "      <td>V-TACH/CARDIOVERSION</td>\n",
       "      <td>M</td>\n",
       "      <td>2064</td>\n",
       "      <td>WHITE</td>\n",
       "      <td>Private</td>\n",
       "      <td>2130</td>\n",
       "      <td>29946</td>\n",
       "      <td>66</td>\n",
       "    </tr>\n",
       "    <tr>\n",
       "      <th>41087</th>\n",
       "      <td>ALTERED MENTAL STATUS</td>\n",
       "      <td>M</td>\n",
       "      <td>2052</td>\n",
       "      <td>WHITE</td>\n",
       "      <td>Private</td>\n",
       "      <td>2103</td>\n",
       "      <td>46340</td>\n",
       "      <td>51</td>\n",
       "    </tr>\n",
       "  </tbody>\n",
       "</table>\n",
       "<p>24999 rows × 8 columns</p>\n",
       "</div>"
      ],
      "text/plain": [
       "                                               DIAGNOSIS GENDER   DOB  \\\n",
       "0                                BENZODIAZEPINE OVERDOSE      F  2131   \n",
       "1      CORONARY ARTERY DISEASE\\CORONARY ARTERY BYPASS...      M  2082   \n",
       "2                                             BRAIN MASS      M  2082   \n",
       "3                         INTERIOR MYOCARDIAL INFARCTION      M  2100   \n",
       "4                                ACUTE CORONARY SYNDROME      M  2101   \n",
       "...                                                  ...    ...   ...   \n",
       "38991                                            ABSCESS      M  2125   \n",
       "39955                           CONGESTIVE HEART FAILURE      F  2112   \n",
       "39956                                              FEVER      F  2122   \n",
       "40052                               V-TACH/CARDIOVERSION      M  2064   \n",
       "41087                              ALTERED MENTAL STATUS      M  2052   \n",
       "\n",
       "                  ETHNICITY INSURANCE  ADMITTIME  SUBJECT_ID  AGE  \n",
       "0                     WHITE   Private       2196          22   65  \n",
       "1                     WHITE  Medicare       2153          23   71  \n",
       "2                     WHITE  Medicare       2157          23   75  \n",
       "3                     WHITE   Private       2139          24   39  \n",
       "4                     WHITE   Private       2160          25   59  \n",
       "...                     ...       ...        ...         ...  ...  \n",
       "38991  MULTI RACE ETHNICITY  Medicaid       2180       30396   55  \n",
       "39955                 WHITE  Medicaid       2149       32434   37  \n",
       "39956                 WHITE  Medicare       2192       32435   70  \n",
       "40052                 WHITE   Private       2130       29946   66  \n",
       "41087                 WHITE   Private       2103       46340   51  \n",
       "\n",
       "[24999 rows x 8 columns]"
      ]
     },
     "execution_count": 3,
     "metadata": {},
     "output_type": "execute_result"
    }
   ],
   "source": [
    "# Diagnosis is target or independent variable\n",
    "from datetime import datetime\n",
    "\n",
    "demographics_df = patients_df_25[['DIAGNOSIS','GENDER','DOB','ETHNICITY','INSURANCE','ADMITTIME','SUBJECT_ID']]\n",
    "demographics_df['DOB'] = pd.to_datetime(demographics_df['DOB']).dt.year\n",
    "demographics_df['ADMITTIME'] = pd.to_datetime(demographics_df['ADMITTIME']).dt.year\n",
    "demographics_df['AGE'] = demographics_df['ADMITTIME'] - demographics_df['DOB']\n",
    "demographics_df = demographics_df[(demographics_df['AGE'] >= 20) & (demographics_df['AGE'] <= 80 )] # drop rows less than 20 and greater than 80, due to classified admittime and dob\n",
    "demographics_df"
   ]
  },
  {
   "cell_type": "markdown",
   "metadata": {},
   "source": [
    "Read in the CHARTEVENTS table from MIMIC-III for continous values i.e blood pressure and heart rate"
   ]
  },
  {
   "cell_type": "code",
   "execution_count": 4,
   "metadata": {},
   "outputs": [],
   "source": [
    "df_chartEvents = pd.read_csv('CHARTEVENTS.csv')\n"
   ]
  },
  {
   "cell_type": "code",
   "execution_count": 5,
   "metadata": {},
   "outputs": [],
   "source": [
    "# only use SUBJECT_IDS that are in the above demographics datasets\n",
    "unique_ids = df_chartEvents.SUBJECT_ID.unique()\n",
    "demographics_df = demographics_df[(demographics_df['SUBJECT_ID'].isin(unique_ids))]\n",
    "merged_data_cont = pd.merge(df_chartEvents, patients_df_25, on='SUBJECT_ID')"
   ]
  },
  {
   "cell_type": "code",
   "execution_count": 6,
   "metadata": {},
   "outputs": [
    {
     "data": {
      "text/html": [
       "<div>\n",
       "<style scoped>\n",
       "    .dataframe tbody tr th:only-of-type {\n",
       "        vertical-align: middle;\n",
       "    }\n",
       "\n",
       "    .dataframe tbody tr th {\n",
       "        vertical-align: top;\n",
       "    }\n",
       "\n",
       "    .dataframe thead th {\n",
       "        text-align: right;\n",
       "    }\n",
       "</style>\n",
       "<table border=\"1\" class=\"dataframe\">\n",
       "  <thead>\n",
       "    <tr style=\"text-align: right;\">\n",
       "      <th></th>\n",
       "      <th>SUBJECT_ID</th>\n",
       "      <th>VALUENUM</th>\n",
       "      <th>VALUEUOM</th>\n",
       "      <th>DIAGNOSIS</th>\n",
       "    </tr>\n",
       "  </thead>\n",
       "  <tbody>\n",
       "    <tr>\n",
       "      <th>27</th>\n",
       "      <td>36</td>\n",
       "      <td>58.0</td>\n",
       "      <td>mmHg</td>\n",
       "      <td>CORONARY ARTERY DISEASE\\CORONARY ARTERY BYPASS...</td>\n",
       "    </tr>\n",
       "    <tr>\n",
       "      <th>28</th>\n",
       "      <td>36</td>\n",
       "      <td>58.0</td>\n",
       "      <td>mmHg</td>\n",
       "      <td>CHEST PAIN/SHORTNESS OF BREATH</td>\n",
       "    </tr>\n",
       "    <tr>\n",
       "      <th>29</th>\n",
       "      <td>36</td>\n",
       "      <td>58.0</td>\n",
       "      <td>mmHg</td>\n",
       "      <td>VENTRAL HERNIA/SDA</td>\n",
       "    </tr>\n",
       "    <tr>\n",
       "      <th>30</th>\n",
       "      <td>36</td>\n",
       "      <td>60.0</td>\n",
       "      <td>mmHg</td>\n",
       "      <td>CORONARY ARTERY DISEASE\\CORONARY ARTERY BYPASS...</td>\n",
       "    </tr>\n",
       "    <tr>\n",
       "      <th>31</th>\n",
       "      <td>36</td>\n",
       "      <td>60.0</td>\n",
       "      <td>mmHg</td>\n",
       "      <td>CHEST PAIN/SHORTNESS OF BREATH</td>\n",
       "    </tr>\n",
       "    <tr>\n",
       "      <th>...</th>\n",
       "      <td>...</td>\n",
       "      <td>...</td>\n",
       "      <td>...</td>\n",
       "      <td>...</td>\n",
       "    </tr>\n",
       "    <tr>\n",
       "      <th>20032234</th>\n",
       "      <td>46340</td>\n",
       "      <td>69.0</td>\n",
       "      <td>mmHg</td>\n",
       "      <td>ALTERED MENTAL STATUS</td>\n",
       "    </tr>\n",
       "    <tr>\n",
       "      <th>20032238</th>\n",
       "      <td>46340</td>\n",
       "      <td>67.0</td>\n",
       "      <td>bpm</td>\n",
       "      <td>ALTERED MENTAL STATUS</td>\n",
       "    </tr>\n",
       "    <tr>\n",
       "      <th>20032239</th>\n",
       "      <td>46340</td>\n",
       "      <td>99.0</td>\n",
       "      <td>mmHg</td>\n",
       "      <td>ALTERED MENTAL STATUS</td>\n",
       "    </tr>\n",
       "    <tr>\n",
       "      <th>20032240</th>\n",
       "      <td>46340</td>\n",
       "      <td>60.0</td>\n",
       "      <td>mmHg</td>\n",
       "      <td>ALTERED MENTAL STATUS</td>\n",
       "    </tr>\n",
       "    <tr>\n",
       "      <th>20032241</th>\n",
       "      <td>46340</td>\n",
       "      <td>69.0</td>\n",
       "      <td>mmHg</td>\n",
       "      <td>ALTERED MENTAL STATUS</td>\n",
       "    </tr>\n",
       "  </tbody>\n",
       "</table>\n",
       "<p>7702801 rows × 4 columns</p>\n",
       "</div>"
      ],
      "text/plain": [
       "          SUBJECT_ID  VALUENUM VALUEUOM  \\\n",
       "27                36      58.0     mmHg   \n",
       "28                36      58.0     mmHg   \n",
       "29                36      58.0     mmHg   \n",
       "30                36      60.0     mmHg   \n",
       "31                36      60.0     mmHg   \n",
       "...              ...       ...      ...   \n",
       "20032234       46340      69.0     mmHg   \n",
       "20032238       46340      67.0      bpm   \n",
       "20032239       46340      99.0     mmHg   \n",
       "20032240       46340      60.0     mmHg   \n",
       "20032241       46340      69.0     mmHg   \n",
       "\n",
       "                                                  DIAGNOSIS  \n",
       "27        CORONARY ARTERY DISEASE\\CORONARY ARTERY BYPASS...  \n",
       "28                           CHEST PAIN/SHORTNESS OF BREATH  \n",
       "29                                       VENTRAL HERNIA/SDA  \n",
       "30        CORONARY ARTERY DISEASE\\CORONARY ARTERY BYPASS...  \n",
       "31                           CHEST PAIN/SHORTNESS OF BREATH  \n",
       "...                                                     ...  \n",
       "20032234                              ALTERED MENTAL STATUS  \n",
       "20032238                              ALTERED MENTAL STATUS  \n",
       "20032239                              ALTERED MENTAL STATUS  \n",
       "20032240                              ALTERED MENTAL STATUS  \n",
       "20032241                              ALTERED MENTAL STATUS  \n",
       "\n",
       "[7702801 rows x 4 columns]"
      ]
     },
     "execution_count": 6,
     "metadata": {},
     "output_type": "execute_result"
    }
   ],
   "source": [
    "# only take the values that are heart rate (bpm) and blood pressure (mmHg)\n",
    "cont_df_25 = merged_data_cont[(merged_data_cont['VALUEUOM'] == 'bpm') | (merged_data_cont['VALUEUOM'] == 'mmHg' )]\n",
    "cont_df_25 = cont_df_25[['SUBJECT_ID','VALUENUM', 'VALUEUOM','DIAGNOSIS']]\n",
    "cont_df_25"
   ]
  },
  {
   "cell_type": "markdown",
   "metadata": {},
   "source": [
    "## Filter the diagnoses to get the top 10 most frequent"
   ]
  },
  {
   "cell_type": "code",
   "execution_count": 7,
   "metadata": {},
   "outputs": [],
   "source": [
    "cont25_df_top10 = cont_df_25['DIAGNOSIS'].value_counts().nlargest(10)\n",
    "cont25_10_codes_df1 = cont25_df_top10.reset_index()\n",
    "cont25_10_codes_df1.columns = ['DIAGNOSIS', 'Frequency']\n",
    "top10_cont = cont25_10_codes_df1['DIAGNOSIS']\n",
    "cont_df_25 = cont_df_25.loc[cont_df_25['DIAGNOSIS'].isin(top10_cont)]"
   ]
  },
  {
   "cell_type": "markdown",
   "metadata": {},
   "source": [
    "# Normalize blood pressure and heart rate to z-score values and get max,min values for each patient"
   ]
  },
  {
   "cell_type": "code",
   "execution_count": 8,
   "metadata": {},
   "outputs": [
    {
     "name": "stderr",
     "output_type": "stream",
     "text": [
      "C:\\Users\\Brendan Mckeown\\AppData\\Local\\Temp\\ipykernel_14684\\153954467.py:11: SettingWithCopyWarning: \n",
      "A value is trying to be set on a copy of a slice from a DataFrame.\n",
      "Try using .loc[row_indexer,col_indexer] = value instead\n",
      "\n",
      "See the caveats in the documentation: https://pandas.pydata.org/pandas-docs/stable/user_guide/indexing.html#returning-a-view-versus-a-copy\n",
      "  blood_pressure_df['Z_Score_BP'] = zscore_df_bp_col\n",
      "C:\\Users\\Brendan Mckeown\\AppData\\Local\\Temp\\ipykernel_14684\\153954467.py:14: SettingWithCopyWarning: \n",
      "A value is trying to be set on a copy of a slice from a DataFrame.\n",
      "Try using .loc[row_indexer,col_indexer] = value instead\n",
      "\n",
      "See the caveats in the documentation: https://pandas.pydata.org/pandas-docs/stable/user_guide/indexing.html#returning-a-view-versus-a-copy\n",
      "  heart_rate_df['Z_Score_HR'] = zscore_df_hr_col\n"
     ]
    }
   ],
   "source": [
    "from sklearn.preprocessing import StandardScaler\n",
    "from scipy.stats import zscore\n",
    "\n",
    "scaler = StandardScaler()\n",
    "# Define a function to normalize the data using Z-score standardization\n",
    "blood_pressure_df = cont_df_25[cont_df_25['VALUEUOM'] == 'mmHg']\n",
    "heart_rate_df = cont_df_25[cont_df_25['VALUEUOM'] == 'bpm']\n",
    "blood_pressure_df_maxmin = blood_pressure_df.groupby('SUBJECT_ID')['VALUENUM'].agg(['max','min']).reset_index()\n",
    "heart_rate_df_maxmin = heart_rate_df.groupby('SUBJECT_ID')['VALUENUM'].agg(['max','min']).reset_index()\n",
    "zscore_df_bp_col = zscore(blood_pressure_df['VALUENUM'])\n",
    "blood_pressure_df['Z_Score_BP'] = zscore_df_bp_col\n",
    "\n",
    "zscore_df_hr_col = zscore(heart_rate_df['VALUENUM'])\n",
    "heart_rate_df['Z_Score_HR'] = zscore_df_hr_col\n",
    "\n",
    "blood_pressure_df = blood_pressure_df.groupby('SUBJECT_ID').mean()\n",
    "heart_rate_df = heart_rate_df.groupby('SUBJECT_ID').mean()\n",
    "new_df =  cont_df_25.merge(blood_pressure_df, on='SUBJECT_ID',how='left')\n",
    "new_df = new_df.merge(heart_rate_df,on='SUBJECT_ID',how='left')\n",
    "new_df = new_df.merge(blood_pressure_df_maxmin,on='SUBJECT_ID',how='left')\n",
    "new_df = new_df.merge(heart_rate_df_maxmin,on='SUBJECT_ID',how='left')\n",
    "new_df =new_df.drop_duplicates(subset='SUBJECT_ID')[['SUBJECT_ID', 'Z_Score_BP', 'Z_Score_HR', 'max_x', 'min_x', 'max_y', 'min_y']].reset_index(drop=True)\n"
   ]
  },
  {
   "cell_type": "markdown",
   "metadata": {},
   "source": [
    "As most of the blood pressure z-scores are quite close together, we will filter the ones that are outside one standard deviation of the mean and clamp them to ten standard deviations outside the mean to show that these are abnormal values."
   ]
  },
  {
   "cell_type": "code",
   "execution_count": 9,
   "metadata": {},
   "outputs": [
    {
     "name": "stderr",
     "output_type": "stream",
     "text": [
      "C:\\Users\\Brendan Mckeown\\AppData\\Local\\Packages\\PythonSoftwareFoundation.Python.3.9_qbz5n2kfra8p0\\LocalCache\\local-packages\\Python39\\site-packages\\pandas\\plotting\\_matplotlib\\core.py:1070: UserWarning: No data for colormapping provided via 'c'. Parameters 'cmap' will be ignored\n",
      "  scatter = ax.scatter(\n"
     ]
    },
    {
     "data": {
      "image/png": "[encoded data removed]",
      "text/plain": [
       "<Figure size 640x480 with 1 Axes>"
      ]
     },
     "metadata": {},
     "output_type": "display_data"
    }
   ],
   "source": [
    "import matplotlib.pyplot as plt\n",
    "\n",
    "new_df.plot.scatter(x='SUBJECT_ID', y='Z_Score_BP')\n",
    "\n",
    "# Set plot labels and title (optional)\n",
    "plt.xlabel('X-axis')\n",
    "plt.ylabel('Y-axis')\n",
    "plt.title('Blood Pressure Plot')\n",
    "\n",
    "# Show the plot\n",
    "plt.show()\n"
   ]
  },
  {
   "cell_type": "code",
   "execution_count": 10,
   "metadata": {},
   "outputs": [
    {
     "data": {
      "image/png": "[encoded data removed]",
      "text/plain": [
       "<Figure size 640x480 with 1 Axes>"
      ]
     },
     "metadata": {},
     "output_type": "display_data"
    }
   ],
   "source": [
    "new_df.plot.scatter(x='SUBJECT_ID', y='Z_Score_HR')\n",
    "\n",
    "# Set plot labels and title (optional)\n",
    "plt.xlabel('X-axis')\n",
    "plt.ylabel('Y-axis')\n",
    "plt.title('Heart Rate Plot')\n",
    "\n",
    "# Show the plot\n",
    "plt.show()"
   ]
  },
  {
   "cell_type": "code",
   "execution_count": 11,
   "metadata": {},
   "outputs": [
    {
     "data": {
      "image/png": "[encoded data removed]",
      "text/plain": [
       "<Figure size 640x480 with 1 Axes>"
      ]
     },
     "metadata": {},
     "output_type": "display_data"
    }
   ],
   "source": [
    "# Clamp outliers to 10 standard deviations \n",
    "# Calculate the mean and standard deviation of the column\n",
    "mean_val_bp = new_df['Z_Score_BP'].mean()\n",
    "std_val_bp = new_df['Z_Score_BP'].std()\n",
    "mean_val_hr = new_df['Z_Score_HR'].mean()\n",
    "std_val_hr = new_df['Z_Score_HR'].std()\n",
    "# Calculate the threshold value as 10 standard deviations from the mean\n",
    "threshold_bp = mean_val_bp + (10 * std_val_bp)\n",
    "threshold_hr = mean_val_hr + (10 * std_val_hr)\n",
    "\n",
    "new_df.loc[new_df['Z_Score_BP'] >= mean_val_bp + std_val_bp, 'Z_Score_BP'] += threshold_bp\n",
    "new_df.loc[new_df['Z_Score_HR'] >= mean_val_hr + std_val_hr, 'Z_Score_HR'] += threshold_hr\n",
    "\n",
    "new_df.loc[new_df['Z_Score_BP'] <= mean_val_bp - std_val_bp, 'Z_Score_BP'] -= threshold_bp\n",
    "new_df.loc[new_df['Z_Score_HR'] <= mean_val_hr - std_val_hr, 'Z_Score_HR'] -= threshold_hr\n",
    "\n",
    "new_df.plot.scatter(x='SUBJECT_ID', y='Z_Score_BP')\n",
    "\n",
    "# Set plot labels and title (optional)\n",
    "plt.xlabel('X-axis')\n",
    "plt.ylabel('Y-axis')\n",
    "plt.title('Blood Pressure (Clamped) Plot')\n",
    "\n",
    "# Show the plot\n",
    "plt.show()"
   ]
  },
  {
   "cell_type": "code",
   "execution_count": 12,
   "metadata": {},
   "outputs": [
    {
     "data": {
      "image/png": "[encoded data removed]",
      "text/plain": [
       "<Figure size 640x480 with 1 Axes>"
      ]
     },
     "metadata": {},
     "output_type": "display_data"
    }
   ],
   "source": [
    "new_df.plot.scatter(x='SUBJECT_ID', y='Z_Score_HR')\n",
    "\n",
    "# Set plot labels and title (optional)\n",
    "plt.xlabel('X-axis')\n",
    "plt.ylabel('Y-axis')\n",
    "plt.title('Heart Rate (Clamped) Plot')\n",
    "\n",
    "# Show the plot\n",
    "plt.show()"
   ]
  },
  {
   "cell_type": "code",
   "execution_count": 13,
   "metadata": {},
   "outputs": [],
   "source": [
    "# Add label encoders\n",
    "from sklearn import preprocessing\n",
    "le1 = preprocessing.LabelEncoder()\n",
    "le2 = preprocessing.LabelEncoder()\n",
    "le3 = preprocessing.LabelEncoder()\n",
    "le4 = preprocessing.LabelEncoder()\n",
    "\n",
    "# Merge continous values to structured dataframe \n",
    "demographics_df =  demographics_df.merge(new_df, on='SUBJECT_ID',how='inner')\n",
    "unique_ids_proper = demographics_df.SUBJECT_ID.unique()\n"
   ]
  },
  {
   "cell_type": "code",
   "execution_count": 14,
   "metadata": {},
   "outputs": [],
   "source": [
    "demographics_df = demographics_df[['SUBJECT_ID','DIAGNOSIS','GENDER', 'DOB', 'ETHNICITY','AGE', 'Z_Score_BP','Z_Score_HR','max_x','min_x','max_y','min_y']]\n",
    "demographics_df = demographics_df.dropna()\n",
    "demographics_df_top10 = demographics_df['DIAGNOSIS'].value_counts().nlargest(10)\n",
    "top_10_codes_df1 = demographics_df_top10.reset_index()\n",
    "top_10_codes_df1.columns = ['DIAGNOSIS', 'Frequency']\n",
    "top10 = top_10_codes_df1['DIAGNOSIS']\n",
    "demographics_df1 = demographics_df.loc[demographics_df['DIAGNOSIS'].isin(top10)]\n",
    "unique_ids_proper1 = demographics_df1.SUBJECT_ID.unique()"
   ]
  },
  {
   "cell_type": "markdown",
   "metadata": {},
   "source": [
    "## Obtain ICD-9 Codes Associated with each Subject_ID"
   ]
  },
  {
   "cell_type": "code",
   "execution_count": 15,
   "metadata": {},
   "outputs": [
    {
     "data": {
      "text/html": [
       "<div>\n",
       "<style scoped>\n",
       "    .dataframe tbody tr th:only-of-type {\n",
       "        vertical-align: middle;\n",
       "    }\n",
       "\n",
       "    .dataframe tbody tr th {\n",
       "        vertical-align: top;\n",
       "    }\n",
       "\n",
       "    .dataframe thead th {\n",
       "        text-align: right;\n",
       "    }\n",
       "</style>\n",
       "<table border=\"1\" class=\"dataframe\">\n",
       "  <thead>\n",
       "    <tr style=\"text-align: right;\">\n",
       "      <th></th>\n",
       "      <th>SUBJECT_ID</th>\n",
       "      <th>DIAGNOSIS</th>\n",
       "      <th>GENDER</th>\n",
       "      <th>DOB</th>\n",
       "      <th>ETHNICITY</th>\n",
       "      <th>AGE</th>\n",
       "      <th>Z_Score_BP</th>\n",
       "      <th>Z_Score_HR</th>\n",
       "      <th>max_x</th>\n",
       "      <th>min_x</th>\n",
       "      <th>max_y</th>\n",
       "      <th>min_y</th>\n",
       "      <th>ROW_ID</th>\n",
       "      <th>HADM_ID</th>\n",
       "      <th>SEQ_NUM</th>\n",
       "      <th>ICD9_CODE</th>\n",
       "    </tr>\n",
       "  </thead>\n",
       "  <tbody>\n",
       "    <tr>\n",
       "      <th>0</th>\n",
       "      <td>357</td>\n",
       "      <td>SEPSIS</td>\n",
       "      <td>M</td>\n",
       "      <td>2135</td>\n",
       "      <td>WHITE</td>\n",
       "      <td>63</td>\n",
       "      <td>-0.010766</td>\n",
       "      <td>-0.018861</td>\n",
       "      <td>160.0</td>\n",
       "      <td>30.0</td>\n",
       "      <td>120.0</td>\n",
       "      <td>22.0</td>\n",
       "      <td>4245</td>\n",
       "      <td>101651</td>\n",
       "      <td>1.0</td>\n",
       "      <td>5070</td>\n",
       "    </tr>\n",
       "    <tr>\n",
       "      <th>1</th>\n",
       "      <td>357</td>\n",
       "      <td>SEPSIS</td>\n",
       "      <td>M</td>\n",
       "      <td>2135</td>\n",
       "      <td>WHITE</td>\n",
       "      <td>63</td>\n",
       "      <td>-0.010766</td>\n",
       "      <td>-0.018861</td>\n",
       "      <td>160.0</td>\n",
       "      <td>30.0</td>\n",
       "      <td>120.0</td>\n",
       "      <td>22.0</td>\n",
       "      <td>4246</td>\n",
       "      <td>101651</td>\n",
       "      <td>2.0</td>\n",
       "      <td>42822</td>\n",
       "    </tr>\n",
       "    <tr>\n",
       "      <th>2</th>\n",
       "      <td>357</td>\n",
       "      <td>SEPSIS</td>\n",
       "      <td>M</td>\n",
       "      <td>2135</td>\n",
       "      <td>WHITE</td>\n",
       "      <td>63</td>\n",
       "      <td>-0.010766</td>\n",
       "      <td>-0.018861</td>\n",
       "      <td>160.0</td>\n",
       "      <td>30.0</td>\n",
       "      <td>120.0</td>\n",
       "      <td>22.0</td>\n",
       "      <td>4247</td>\n",
       "      <td>101651</td>\n",
       "      <td>3.0</td>\n",
       "      <td>3453</td>\n",
       "    </tr>\n",
       "    <tr>\n",
       "      <th>3</th>\n",
       "      <td>357</td>\n",
       "      <td>SEPSIS</td>\n",
       "      <td>M</td>\n",
       "      <td>2135</td>\n",
       "      <td>WHITE</td>\n",
       "      <td>63</td>\n",
       "      <td>-0.010766</td>\n",
       "      <td>-0.018861</td>\n",
       "      <td>160.0</td>\n",
       "      <td>30.0</td>\n",
       "      <td>120.0</td>\n",
       "      <td>22.0</td>\n",
       "      <td>4248</td>\n",
       "      <td>101651</td>\n",
       "      <td>4.0</td>\n",
       "      <td>2760</td>\n",
       "    </tr>\n",
       "    <tr>\n",
       "      <th>4</th>\n",
       "      <td>357</td>\n",
       "      <td>SEPSIS</td>\n",
       "      <td>M</td>\n",
       "      <td>2135</td>\n",
       "      <td>WHITE</td>\n",
       "      <td>63</td>\n",
       "      <td>-0.010766</td>\n",
       "      <td>-0.018861</td>\n",
       "      <td>160.0</td>\n",
       "      <td>30.0</td>\n",
       "      <td>120.0</td>\n",
       "      <td>22.0</td>\n",
       "      <td>4249</td>\n",
       "      <td>101651</td>\n",
       "      <td>5.0</td>\n",
       "      <td>1550</td>\n",
       "    </tr>\n",
       "    <tr>\n",
       "      <th>...</th>\n",
       "      <td>...</td>\n",
       "      <td>...</td>\n",
       "      <td>...</td>\n",
       "      <td>...</td>\n",
       "      <td>...</td>\n",
       "      <td>...</td>\n",
       "      <td>...</td>\n",
       "      <td>...</td>\n",
       "      <td>...</td>\n",
       "      <td>...</td>\n",
       "      <td>...</td>\n",
       "      <td>...</td>\n",
       "      <td>...</td>\n",
       "      <td>...</td>\n",
       "      <td>...</td>\n",
       "      <td>...</td>\n",
       "    </tr>\n",
       "    <tr>\n",
       "      <th>110690</th>\n",
       "      <td>46340</td>\n",
       "      <td>ALTERED MENTAL STATUS</td>\n",
       "      <td>M</td>\n",
       "      <td>2052</td>\n",
       "      <td>WHITE</td>\n",
       "      <td>51</td>\n",
       "      <td>0.005706</td>\n",
       "      <td>-0.029533</td>\n",
       "      <td>160.0</td>\n",
       "      <td>49.0</td>\n",
       "      <td>120.0</td>\n",
       "      <td>15.0</td>\n",
       "      <td>407261</td>\n",
       "      <td>111666</td>\n",
       "      <td>5.0</td>\n",
       "      <td>25060</td>\n",
       "    </tr>\n",
       "    <tr>\n",
       "      <th>110691</th>\n",
       "      <td>46340</td>\n",
       "      <td>ALTERED MENTAL STATUS</td>\n",
       "      <td>M</td>\n",
       "      <td>2052</td>\n",
       "      <td>WHITE</td>\n",
       "      <td>51</td>\n",
       "      <td>0.005706</td>\n",
       "      <td>-0.029533</td>\n",
       "      <td>160.0</td>\n",
       "      <td>49.0</td>\n",
       "      <td>120.0</td>\n",
       "      <td>15.0</td>\n",
       "      <td>407262</td>\n",
       "      <td>111666</td>\n",
       "      <td>6.0</td>\n",
       "      <td>3572</td>\n",
       "    </tr>\n",
       "    <tr>\n",
       "      <th>110692</th>\n",
       "      <td>46340</td>\n",
       "      <td>ALTERED MENTAL STATUS</td>\n",
       "      <td>M</td>\n",
       "      <td>2052</td>\n",
       "      <td>WHITE</td>\n",
       "      <td>51</td>\n",
       "      <td>0.005706</td>\n",
       "      <td>-0.029533</td>\n",
       "      <td>160.0</td>\n",
       "      <td>49.0</td>\n",
       "      <td>120.0</td>\n",
       "      <td>15.0</td>\n",
       "      <td>407263</td>\n",
       "      <td>111666</td>\n",
       "      <td>7.0</td>\n",
       "      <td>V5867</td>\n",
       "    </tr>\n",
       "    <tr>\n",
       "      <th>110693</th>\n",
       "      <td>46340</td>\n",
       "      <td>ALTERED MENTAL STATUS</td>\n",
       "      <td>M</td>\n",
       "      <td>2052</td>\n",
       "      <td>WHITE</td>\n",
       "      <td>51</td>\n",
       "      <td>0.005706</td>\n",
       "      <td>-0.029533</td>\n",
       "      <td>160.0</td>\n",
       "      <td>49.0</td>\n",
       "      <td>120.0</td>\n",
       "      <td>15.0</td>\n",
       "      <td>407264</td>\n",
       "      <td>111666</td>\n",
       "      <td>8.0</td>\n",
       "      <td>25040</td>\n",
       "    </tr>\n",
       "    <tr>\n",
       "      <th>110694</th>\n",
       "      <td>46340</td>\n",
       "      <td>ALTERED MENTAL STATUS</td>\n",
       "      <td>M</td>\n",
       "      <td>2052</td>\n",
       "      <td>WHITE</td>\n",
       "      <td>51</td>\n",
       "      <td>0.005706</td>\n",
       "      <td>-0.029533</td>\n",
       "      <td>160.0</td>\n",
       "      <td>49.0</td>\n",
       "      <td>120.0</td>\n",
       "      <td>15.0</td>\n",
       "      <td>407265</td>\n",
       "      <td>111666</td>\n",
       "      <td>9.0</td>\n",
       "      <td>58381</td>\n",
       "    </tr>\n",
       "  </tbody>\n",
       "</table>\n",
       "<p>110695 rows × 16 columns</p>\n",
       "</div>"
      ],
      "text/plain": [
       "        SUBJECT_ID              DIAGNOSIS GENDER   DOB ETHNICITY  AGE  \\\n",
       "0              357                 SEPSIS      M  2135     WHITE   63   \n",
       "1              357                 SEPSIS      M  2135     WHITE   63   \n",
       "2              357                 SEPSIS      M  2135     WHITE   63   \n",
       "3              357                 SEPSIS      M  2135     WHITE   63   \n",
       "4              357                 SEPSIS      M  2135     WHITE   63   \n",
       "...            ...                    ...    ...   ...       ...  ...   \n",
       "110690       46340  ALTERED MENTAL STATUS      M  2052     WHITE   51   \n",
       "110691       46340  ALTERED MENTAL STATUS      M  2052     WHITE   51   \n",
       "110692       46340  ALTERED MENTAL STATUS      M  2052     WHITE   51   \n",
       "110693       46340  ALTERED MENTAL STATUS      M  2052     WHITE   51   \n",
       "110694       46340  ALTERED MENTAL STATUS      M  2052     WHITE   51   \n",
       "\n",
       "        Z_Score_BP  Z_Score_HR  max_x  min_x  max_y  min_y  ROW_ID  HADM_ID  \\\n",
       "0        -0.010766   -0.018861  160.0   30.0  120.0   22.0    4245   101651   \n",
       "1        -0.010766   -0.018861  160.0   30.0  120.0   22.0    4246   101651   \n",
       "2        -0.010766   -0.018861  160.0   30.0  120.0   22.0    4247   101651   \n",
       "3        -0.010766   -0.018861  160.0   30.0  120.0   22.0    4248   101651   \n",
       "4        -0.010766   -0.018861  160.0   30.0  120.0   22.0    4249   101651   \n",
       "...            ...         ...    ...    ...    ...    ...     ...      ...   \n",
       "110690    0.005706   -0.029533  160.0   49.0  120.0   15.0  407261   111666   \n",
       "110691    0.005706   -0.029533  160.0   49.0  120.0   15.0  407262   111666   \n",
       "110692    0.005706   -0.029533  160.0   49.0  120.0   15.0  407263   111666   \n",
       "110693    0.005706   -0.029533  160.0   49.0  120.0   15.0  407264   111666   \n",
       "110694    0.005706   -0.029533  160.0   49.0  120.0   15.0  407265   111666   \n",
       "\n",
       "        SEQ_NUM ICD9_CODE  \n",
       "0           1.0      5070  \n",
       "1           2.0     42822  \n",
       "2           3.0      3453  \n",
       "3           4.0      2760  \n",
       "4           5.0      1550  \n",
       "...         ...       ...  \n",
       "110690      5.0     25060  \n",
       "110691      6.0      3572  \n",
       "110692      7.0     V5867  \n",
       "110693      8.0     25040  \n",
       "110694      9.0     58381  \n",
       "\n",
       "[110695 rows x 16 columns]"
      ]
     },
     "execution_count": 15,
     "metadata": {},
     "output_type": "execute_result"
    }
   ],
   "source": [
    "demographic_codes = demographics_df1.merge(df_codes, on='SUBJECT_ID', how='inner')\n",
    "demographic_codes"
   ]
  },
  {
   "cell_type": "markdown",
   "metadata": {},
   "source": [
    "# Add if the patient was/is a current or previous smoker"
   ]
  },
  {
   "cell_type": "code",
   "execution_count": 16,
   "metadata": {},
   "outputs": [],
   "source": [
    "current_tobacco = '3051' \n",
    "previous_tobacco = 'V1582'\n",
    "\n",
    "rows_with_current_tobacco = demographic_codes[demographic_codes['ICD9_CODE'] == current_tobacco]\n",
    "rows_with_previous_tobacco = demographic_codes[demographic_codes['ICD9_CODE'] == previous_tobacco]\n",
    "current_tobacco_subject = rows_with_current_tobacco.SUBJECT_ID.unique()\n",
    "past_tobacco_subject = rows_with_previous_tobacco.SUBJECT_ID.unique()"
   ]
  },
  {
   "cell_type": "markdown",
   "metadata": {},
   "source": [
    "Cut the ICD-9 Codes to three as this allows for greater generilization of diagnoses"
   ]
  },
  {
   "cell_type": "code",
   "execution_count": 17,
   "metadata": {},
   "outputs": [
    {
     "data": {
      "text/html": [
       "<div>\n",
       "<style scoped>\n",
       "    .dataframe tbody tr th:only-of-type {\n",
       "        vertical-align: middle;\n",
       "    }\n",
       "\n",
       "    .dataframe tbody tr th {\n",
       "        vertical-align: top;\n",
       "    }\n",
       "\n",
       "    .dataframe thead th {\n",
       "        text-align: right;\n",
       "    }\n",
       "</style>\n",
       "<table border=\"1\" class=\"dataframe\">\n",
       "  <thead>\n",
       "    <tr style=\"text-align: right;\">\n",
       "      <th></th>\n",
       "      <th>SUBJECT_ID</th>\n",
       "      <th>DIAGNOSIS</th>\n",
       "      <th>GENDER</th>\n",
       "      <th>DOB</th>\n",
       "      <th>ETHNICITY</th>\n",
       "      <th>AGE</th>\n",
       "      <th>Z_Score_BP</th>\n",
       "      <th>Z_Score_HR</th>\n",
       "      <th>max_x</th>\n",
       "      <th>min_x</th>\n",
       "      <th>max_y</th>\n",
       "      <th>min_y</th>\n",
       "      <th>ROW_ID</th>\n",
       "      <th>HADM_ID</th>\n",
       "      <th>SEQ_NUM</th>\n",
       "      <th>ICD9_CODE</th>\n",
       "    </tr>\n",
       "  </thead>\n",
       "  <tbody>\n",
       "    <tr>\n",
       "      <th>0</th>\n",
       "      <td>357</td>\n",
       "      <td>SEPSIS</td>\n",
       "      <td>M</td>\n",
       "      <td>2135</td>\n",
       "      <td>WHITE</td>\n",
       "      <td>63</td>\n",
       "      <td>-0.010766</td>\n",
       "      <td>-0.018861</td>\n",
       "      <td>160.0</td>\n",
       "      <td>30.0</td>\n",
       "      <td>120.0</td>\n",
       "      <td>22.0</td>\n",
       "      <td>4245</td>\n",
       "      <td>101651</td>\n",
       "      <td>1.0</td>\n",
       "      <td>507</td>\n",
       "    </tr>\n",
       "    <tr>\n",
       "      <th>1</th>\n",
       "      <td>357</td>\n",
       "      <td>SEPSIS</td>\n",
       "      <td>M</td>\n",
       "      <td>2135</td>\n",
       "      <td>WHITE</td>\n",
       "      <td>63</td>\n",
       "      <td>-0.010766</td>\n",
       "      <td>-0.018861</td>\n",
       "      <td>160.0</td>\n",
       "      <td>30.0</td>\n",
       "      <td>120.0</td>\n",
       "      <td>22.0</td>\n",
       "      <td>4246</td>\n",
       "      <td>101651</td>\n",
       "      <td>2.0</td>\n",
       "      <td>428</td>\n",
       "    </tr>\n",
       "    <tr>\n",
       "      <th>2</th>\n",
       "      <td>357</td>\n",
       "      <td>SEPSIS</td>\n",
       "      <td>M</td>\n",
       "      <td>2135</td>\n",
       "      <td>WHITE</td>\n",
       "      <td>63</td>\n",
       "      <td>-0.010766</td>\n",
       "      <td>-0.018861</td>\n",
       "      <td>160.0</td>\n",
       "      <td>30.0</td>\n",
       "      <td>120.0</td>\n",
       "      <td>22.0</td>\n",
       "      <td>4247</td>\n",
       "      <td>101651</td>\n",
       "      <td>3.0</td>\n",
       "      <td>345</td>\n",
       "    </tr>\n",
       "    <tr>\n",
       "      <th>3</th>\n",
       "      <td>357</td>\n",
       "      <td>SEPSIS</td>\n",
       "      <td>M</td>\n",
       "      <td>2135</td>\n",
       "      <td>WHITE</td>\n",
       "      <td>63</td>\n",
       "      <td>-0.010766</td>\n",
       "      <td>-0.018861</td>\n",
       "      <td>160.0</td>\n",
       "      <td>30.0</td>\n",
       "      <td>120.0</td>\n",
       "      <td>22.0</td>\n",
       "      <td>4248</td>\n",
       "      <td>101651</td>\n",
       "      <td>4.0</td>\n",
       "      <td>276</td>\n",
       "    </tr>\n",
       "    <tr>\n",
       "      <th>4</th>\n",
       "      <td>357</td>\n",
       "      <td>SEPSIS</td>\n",
       "      <td>M</td>\n",
       "      <td>2135</td>\n",
       "      <td>WHITE</td>\n",
       "      <td>63</td>\n",
       "      <td>-0.010766</td>\n",
       "      <td>-0.018861</td>\n",
       "      <td>160.0</td>\n",
       "      <td>30.0</td>\n",
       "      <td>120.0</td>\n",
       "      <td>22.0</td>\n",
       "      <td>4249</td>\n",
       "      <td>101651</td>\n",
       "      <td>5.0</td>\n",
       "      <td>155</td>\n",
       "    </tr>\n",
       "    <tr>\n",
       "      <th>...</th>\n",
       "      <td>...</td>\n",
       "      <td>...</td>\n",
       "      <td>...</td>\n",
       "      <td>...</td>\n",
       "      <td>...</td>\n",
       "      <td>...</td>\n",
       "      <td>...</td>\n",
       "      <td>...</td>\n",
       "      <td>...</td>\n",
       "      <td>...</td>\n",
       "      <td>...</td>\n",
       "      <td>...</td>\n",
       "      <td>...</td>\n",
       "      <td>...</td>\n",
       "      <td>...</td>\n",
       "      <td>...</td>\n",
       "    </tr>\n",
       "    <tr>\n",
       "      <th>110690</th>\n",
       "      <td>46340</td>\n",
       "      <td>ALTERED MENTAL STATUS</td>\n",
       "      <td>M</td>\n",
       "      <td>2052</td>\n",
       "      <td>WHITE</td>\n",
       "      <td>51</td>\n",
       "      <td>0.005706</td>\n",
       "      <td>-0.029533</td>\n",
       "      <td>160.0</td>\n",
       "      <td>49.0</td>\n",
       "      <td>120.0</td>\n",
       "      <td>15.0</td>\n",
       "      <td>407261</td>\n",
       "      <td>111666</td>\n",
       "      <td>5.0</td>\n",
       "      <td>250</td>\n",
       "    </tr>\n",
       "    <tr>\n",
       "      <th>110691</th>\n",
       "      <td>46340</td>\n",
       "      <td>ALTERED MENTAL STATUS</td>\n",
       "      <td>M</td>\n",
       "      <td>2052</td>\n",
       "      <td>WHITE</td>\n",
       "      <td>51</td>\n",
       "      <td>0.005706</td>\n",
       "      <td>-0.029533</td>\n",
       "      <td>160.0</td>\n",
       "      <td>49.0</td>\n",
       "      <td>120.0</td>\n",
       "      <td>15.0</td>\n",
       "      <td>407262</td>\n",
       "      <td>111666</td>\n",
       "      <td>6.0</td>\n",
       "      <td>357</td>\n",
       "    </tr>\n",
       "    <tr>\n",
       "      <th>110692</th>\n",
       "      <td>46340</td>\n",
       "      <td>ALTERED MENTAL STATUS</td>\n",
       "      <td>M</td>\n",
       "      <td>2052</td>\n",
       "      <td>WHITE</td>\n",
       "      <td>51</td>\n",
       "      <td>0.005706</td>\n",
       "      <td>-0.029533</td>\n",
       "      <td>160.0</td>\n",
       "      <td>49.0</td>\n",
       "      <td>120.0</td>\n",
       "      <td>15.0</td>\n",
       "      <td>407263</td>\n",
       "      <td>111666</td>\n",
       "      <td>7.0</td>\n",
       "      <td>V58</td>\n",
       "    </tr>\n",
       "    <tr>\n",
       "      <th>110693</th>\n",
       "      <td>46340</td>\n",
       "      <td>ALTERED MENTAL STATUS</td>\n",
       "      <td>M</td>\n",
       "      <td>2052</td>\n",
       "      <td>WHITE</td>\n",
       "      <td>51</td>\n",
       "      <td>0.005706</td>\n",
       "      <td>-0.029533</td>\n",
       "      <td>160.0</td>\n",
       "      <td>49.0</td>\n",
       "      <td>120.0</td>\n",
       "      <td>15.0</td>\n",
       "      <td>407264</td>\n",
       "      <td>111666</td>\n",
       "      <td>8.0</td>\n",
       "      <td>250</td>\n",
       "    </tr>\n",
       "    <tr>\n",
       "      <th>110694</th>\n",
       "      <td>46340</td>\n",
       "      <td>ALTERED MENTAL STATUS</td>\n",
       "      <td>M</td>\n",
       "      <td>2052</td>\n",
       "      <td>WHITE</td>\n",
       "      <td>51</td>\n",
       "      <td>0.005706</td>\n",
       "      <td>-0.029533</td>\n",
       "      <td>160.0</td>\n",
       "      <td>49.0</td>\n",
       "      <td>120.0</td>\n",
       "      <td>15.0</td>\n",
       "      <td>407265</td>\n",
       "      <td>111666</td>\n",
       "      <td>9.0</td>\n",
       "      <td>583</td>\n",
       "    </tr>\n",
       "  </tbody>\n",
       "</table>\n",
       "<p>110695 rows × 16 columns</p>\n",
       "</div>"
      ],
      "text/plain": [
       "        SUBJECT_ID              DIAGNOSIS GENDER   DOB ETHNICITY  AGE  \\\n",
       "0              357                 SEPSIS      M  2135     WHITE   63   \n",
       "1              357                 SEPSIS      M  2135     WHITE   63   \n",
       "2              357                 SEPSIS      M  2135     WHITE   63   \n",
       "3              357                 SEPSIS      M  2135     WHITE   63   \n",
       "4              357                 SEPSIS      M  2135     WHITE   63   \n",
       "...            ...                    ...    ...   ...       ...  ...   \n",
       "110690       46340  ALTERED MENTAL STATUS      M  2052     WHITE   51   \n",
       "110691       46340  ALTERED MENTAL STATUS      M  2052     WHITE   51   \n",
       "110692       46340  ALTERED MENTAL STATUS      M  2052     WHITE   51   \n",
       "110693       46340  ALTERED MENTAL STATUS      M  2052     WHITE   51   \n",
       "110694       46340  ALTERED MENTAL STATUS      M  2052     WHITE   51   \n",
       "\n",
       "        Z_Score_BP  Z_Score_HR  max_x  min_x  max_y  min_y  ROW_ID  HADM_ID  \\\n",
       "0        -0.010766   -0.018861  160.0   30.0  120.0   22.0    4245   101651   \n",
       "1        -0.010766   -0.018861  160.0   30.0  120.0   22.0    4246   101651   \n",
       "2        -0.010766   -0.018861  160.0   30.0  120.0   22.0    4247   101651   \n",
       "3        -0.010766   -0.018861  160.0   30.0  120.0   22.0    4248   101651   \n",
       "4        -0.010766   -0.018861  160.0   30.0  120.0   22.0    4249   101651   \n",
       "...            ...         ...    ...    ...    ...    ...     ...      ...   \n",
       "110690    0.005706   -0.029533  160.0   49.0  120.0   15.0  407261   111666   \n",
       "110691    0.005706   -0.029533  160.0   49.0  120.0   15.0  407262   111666   \n",
       "110692    0.005706   -0.029533  160.0   49.0  120.0   15.0  407263   111666   \n",
       "110693    0.005706   -0.029533  160.0   49.0  120.0   15.0  407264   111666   \n",
       "110694    0.005706   -0.029533  160.0   49.0  120.0   15.0  407265   111666   \n",
       "\n",
       "        SEQ_NUM ICD9_CODE  \n",
       "0           1.0       507  \n",
       "1           2.0       428  \n",
       "2           3.0       345  \n",
       "3           4.0       276  \n",
       "4           5.0       155  \n",
       "...         ...       ...  \n",
       "110690      5.0       250  \n",
       "110691      6.0       357  \n",
       "110692      7.0       V58  \n",
       "110693      8.0       250  \n",
       "110694      9.0       583  \n",
       "\n",
       "[110695 rows x 16 columns]"
      ]
     },
     "execution_count": 17,
     "metadata": {},
     "output_type": "execute_result"
    }
   ],
   "source": [
    "# Only take first three codes\n",
    "def preprocess_code(df):\n",
    "    df['ICD9_CODE'] = df['ICD9_CODE'].str[:3]\n",
    "    return df\n",
    "preprocess_code(demographic_codes)"
   ]
  },
  {
   "cell_type": "markdown",
   "metadata": {},
   "source": [
    "# Obtain the most important diagnoses by using the first diagnoses given to patient"
   ]
  },
  {
   "cell_type": "code",
   "execution_count": 18,
   "metadata": {},
   "outputs": [
    {
     "data": {
      "text/html": [
       "<div>\n",
       "<style scoped>\n",
       "    .dataframe tbody tr th:only-of-type {\n",
       "        vertical-align: middle;\n",
       "    }\n",
       "\n",
       "    .dataframe tbody tr th {\n",
       "        vertical-align: top;\n",
       "    }\n",
       "\n",
       "    .dataframe thead th {\n",
       "        text-align: right;\n",
       "    }\n",
       "</style>\n",
       "<table border=\"1\" class=\"dataframe\">\n",
       "  <thead>\n",
       "    <tr style=\"text-align: right;\">\n",
       "      <th></th>\n",
       "      <th>SUBJECT_ID</th>\n",
       "      <th>DIAGNOSIS</th>\n",
       "      <th>GENDER</th>\n",
       "      <th>DOB</th>\n",
       "      <th>ETHNICITY</th>\n",
       "      <th>AGE</th>\n",
       "      <th>Z_Score_BP</th>\n",
       "      <th>Z_Score_HR</th>\n",
       "      <th>max_x</th>\n",
       "      <th>min_x</th>\n",
       "      <th>max_y</th>\n",
       "      <th>min_y</th>\n",
       "      <th>ROW_ID</th>\n",
       "      <th>HADM_ID</th>\n",
       "      <th>SEQ_NUM</th>\n",
       "      <th>ICD9_CODE</th>\n",
       "    </tr>\n",
       "  </thead>\n",
       "  <tbody>\n",
       "    <tr>\n",
       "      <th>0</th>\n",
       "      <td>357</td>\n",
       "      <td>SEPSIS</td>\n",
       "      <td>M</td>\n",
       "      <td>2135</td>\n",
       "      <td>WHITE</td>\n",
       "      <td>63</td>\n",
       "      <td>-0.010766</td>\n",
       "      <td>-0.018861</td>\n",
       "      <td>160.0</td>\n",
       "      <td>30.0</td>\n",
       "      <td>120.0</td>\n",
       "      <td>22.0</td>\n",
       "      <td>4245</td>\n",
       "      <td>101651</td>\n",
       "      <td>1.0</td>\n",
       "      <td>507</td>\n",
       "    </tr>\n",
       "    <tr>\n",
       "      <th>17</th>\n",
       "      <td>357</td>\n",
       "      <td>SEPSIS</td>\n",
       "      <td>M</td>\n",
       "      <td>2135</td>\n",
       "      <td>WHITE</td>\n",
       "      <td>63</td>\n",
       "      <td>-0.010766</td>\n",
       "      <td>-0.018861</td>\n",
       "      <td>160.0</td>\n",
       "      <td>30.0</td>\n",
       "      <td>120.0</td>\n",
       "      <td>22.0</td>\n",
       "      <td>4262</td>\n",
       "      <td>117876</td>\n",
       "      <td>1.0</td>\n",
       "      <td>486</td>\n",
       "    </tr>\n",
       "    <tr>\n",
       "      <th>39</th>\n",
       "      <td>357</td>\n",
       "      <td>SEPSIS</td>\n",
       "      <td>M</td>\n",
       "      <td>2135</td>\n",
       "      <td>WHITE</td>\n",
       "      <td>63</td>\n",
       "      <td>-0.010766</td>\n",
       "      <td>-0.018861</td>\n",
       "      <td>160.0</td>\n",
       "      <td>30.0</td>\n",
       "      <td>120.0</td>\n",
       "      <td>22.0</td>\n",
       "      <td>4284</td>\n",
       "      <td>122609</td>\n",
       "      <td>1.0</td>\n",
       "      <td>276</td>\n",
       "    </tr>\n",
       "    <tr>\n",
       "      <th>63</th>\n",
       "      <td>357</td>\n",
       "      <td>SEPSIS</td>\n",
       "      <td>M</td>\n",
       "      <td>2135</td>\n",
       "      <td>WHITE</td>\n",
       "      <td>63</td>\n",
       "      <td>-0.010766</td>\n",
       "      <td>-0.018861</td>\n",
       "      <td>160.0</td>\n",
       "      <td>30.0</td>\n",
       "      <td>120.0</td>\n",
       "      <td>22.0</td>\n",
       "      <td>4308</td>\n",
       "      <td>145674</td>\n",
       "      <td>1.0</td>\n",
       "      <td>345</td>\n",
       "    </tr>\n",
       "    <tr>\n",
       "      <th>82</th>\n",
       "      <td>357</td>\n",
       "      <td>SEPSIS</td>\n",
       "      <td>M</td>\n",
       "      <td>2135</td>\n",
       "      <td>WHITE</td>\n",
       "      <td>63</td>\n",
       "      <td>-0.010766</td>\n",
       "      <td>-0.018861</td>\n",
       "      <td>160.0</td>\n",
       "      <td>30.0</td>\n",
       "      <td>120.0</td>\n",
       "      <td>22.0</td>\n",
       "      <td>4327</td>\n",
       "      <td>174486</td>\n",
       "      <td>1.0</td>\n",
       "      <td>571</td>\n",
       "    </tr>\n",
       "    <tr>\n",
       "      <th>...</th>\n",
       "      <td>...</td>\n",
       "      <td>...</td>\n",
       "      <td>...</td>\n",
       "      <td>...</td>\n",
       "      <td>...</td>\n",
       "      <td>...</td>\n",
       "      <td>...</td>\n",
       "      <td>...</td>\n",
       "      <td>...</td>\n",
       "      <td>...</td>\n",
       "      <td>...</td>\n",
       "      <td>...</td>\n",
       "      <td>...</td>\n",
       "      <td>...</td>\n",
       "      <td>...</td>\n",
       "      <td>...</td>\n",
       "    </tr>\n",
       "    <tr>\n",
       "      <th>110640</th>\n",
       "      <td>32434</td>\n",
       "      <td>CONGESTIVE HEART FAILURE</td>\n",
       "      <td>F</td>\n",
       "      <td>2112</td>\n",
       "      <td>WHITE</td>\n",
       "      <td>37</td>\n",
       "      <td>0.000043</td>\n",
       "      <td>0.019749</td>\n",
       "      <td>200.0</td>\n",
       "      <td>46.0</td>\n",
       "      <td>120.0</td>\n",
       "      <td>50.0</td>\n",
       "      <td>374091</td>\n",
       "      <td>146004</td>\n",
       "      <td>1.0</td>\n",
       "      <td>410</td>\n",
       "    </tr>\n",
       "    <tr>\n",
       "      <th>110648</th>\n",
       "      <td>32434</td>\n",
       "      <td>CONGESTIVE HEART FAILURE</td>\n",
       "      <td>F</td>\n",
       "      <td>2112</td>\n",
       "      <td>WHITE</td>\n",
       "      <td>37</td>\n",
       "      <td>0.000043</td>\n",
       "      <td>0.019749</td>\n",
       "      <td>200.0</td>\n",
       "      <td>46.0</td>\n",
       "      <td>120.0</td>\n",
       "      <td>50.0</td>\n",
       "      <td>374099</td>\n",
       "      <td>153109</td>\n",
       "      <td>1.0</td>\n",
       "      <td>584</td>\n",
       "    </tr>\n",
       "    <tr>\n",
       "      <th>110661</th>\n",
       "      <td>32434</td>\n",
       "      <td>CONGESTIVE HEART FAILURE</td>\n",
       "      <td>F</td>\n",
       "      <td>2112</td>\n",
       "      <td>WHITE</td>\n",
       "      <td>37</td>\n",
       "      <td>0.000043</td>\n",
       "      <td>0.019749</td>\n",
       "      <td>200.0</td>\n",
       "      <td>46.0</td>\n",
       "      <td>120.0</td>\n",
       "      <td>50.0</td>\n",
       "      <td>374112</td>\n",
       "      <td>197544</td>\n",
       "      <td>1.0</td>\n",
       "      <td>428</td>\n",
       "    </tr>\n",
       "    <tr>\n",
       "      <th>110672</th>\n",
       "      <td>32435</td>\n",
       "      <td>FEVER</td>\n",
       "      <td>F</td>\n",
       "      <td>2122</td>\n",
       "      <td>WHITE</td>\n",
       "      <td>70</td>\n",
       "      <td>-0.007207</td>\n",
       "      <td>-0.006817</td>\n",
       "      <td>175.0</td>\n",
       "      <td>-1.0</td>\n",
       "      <td>140.0</td>\n",
       "      <td>50.0</td>\n",
       "      <td>374123</td>\n",
       "      <td>173167</td>\n",
       "      <td>1.0</td>\n",
       "      <td>518</td>\n",
       "    </tr>\n",
       "    <tr>\n",
       "      <th>110686</th>\n",
       "      <td>46340</td>\n",
       "      <td>ALTERED MENTAL STATUS</td>\n",
       "      <td>M</td>\n",
       "      <td>2052</td>\n",
       "      <td>WHITE</td>\n",
       "      <td>51</td>\n",
       "      <td>0.005706</td>\n",
       "      <td>-0.029533</td>\n",
       "      <td>160.0</td>\n",
       "      <td>49.0</td>\n",
       "      <td>120.0</td>\n",
       "      <td>15.0</td>\n",
       "      <td>407257</td>\n",
       "      <td>111666</td>\n",
       "      <td>1.0</td>\n",
       "      <td>293</td>\n",
       "    </tr>\n",
       "  </tbody>\n",
       "</table>\n",
       "<p>7635 rows × 16 columns</p>\n",
       "</div>"
      ],
      "text/plain": [
       "        SUBJECT_ID                 DIAGNOSIS GENDER   DOB ETHNICITY  AGE  \\\n",
       "0              357                    SEPSIS      M  2135     WHITE   63   \n",
       "17             357                    SEPSIS      M  2135     WHITE   63   \n",
       "39             357                    SEPSIS      M  2135     WHITE   63   \n",
       "63             357                    SEPSIS      M  2135     WHITE   63   \n",
       "82             357                    SEPSIS      M  2135     WHITE   63   \n",
       "...            ...                       ...    ...   ...       ...  ...   \n",
       "110640       32434  CONGESTIVE HEART FAILURE      F  2112     WHITE   37   \n",
       "110648       32434  CONGESTIVE HEART FAILURE      F  2112     WHITE   37   \n",
       "110661       32434  CONGESTIVE HEART FAILURE      F  2112     WHITE   37   \n",
       "110672       32435                     FEVER      F  2122     WHITE   70   \n",
       "110686       46340     ALTERED MENTAL STATUS      M  2052     WHITE   51   \n",
       "\n",
       "        Z_Score_BP  Z_Score_HR  max_x  min_x  max_y  min_y  ROW_ID  HADM_ID  \\\n",
       "0        -0.010766   -0.018861  160.0   30.0  120.0   22.0    4245   101651   \n",
       "17       -0.010766   -0.018861  160.0   30.0  120.0   22.0    4262   117876   \n",
       "39       -0.010766   -0.018861  160.0   30.0  120.0   22.0    4284   122609   \n",
       "63       -0.010766   -0.018861  160.0   30.0  120.0   22.0    4308   145674   \n",
       "82       -0.010766   -0.018861  160.0   30.0  120.0   22.0    4327   174486   \n",
       "...            ...         ...    ...    ...    ...    ...     ...      ...   \n",
       "110640    0.000043    0.019749  200.0   46.0  120.0   50.0  374091   146004   \n",
       "110648    0.000043    0.019749  200.0   46.0  120.0   50.0  374099   153109   \n",
       "110661    0.000043    0.019749  200.0   46.0  120.0   50.0  374112   197544   \n",
       "110672   -0.007207   -0.006817  175.0   -1.0  140.0   50.0  374123   173167   \n",
       "110686    0.005706   -0.029533  160.0   49.0  120.0   15.0  407257   111666   \n",
       "\n",
       "        SEQ_NUM ICD9_CODE  \n",
       "0           1.0       507  \n",
       "17          1.0       486  \n",
       "39          1.0       276  \n",
       "63          1.0       345  \n",
       "82          1.0       571  \n",
       "...         ...       ...  \n",
       "110640      1.0       410  \n",
       "110648      1.0       584  \n",
       "110661      1.0       428  \n",
       "110672      1.0       518  \n",
       "110686      1.0       293  \n",
       "\n",
       "[7635 rows x 16 columns]"
      ]
     },
     "execution_count": 18,
     "metadata": {},
     "output_type": "execute_result"
    }
   ],
   "source": [
    "# Only take most important code first SEQ_NUM = 1\n",
    "demographic_codes = demographic_codes[(demographic_codes['SEQ_NUM'] == 1)]\n",
    "demographic_codes"
   ]
  },
  {
   "cell_type": "code",
   "execution_count": 19,
   "metadata": {},
   "outputs": [
    {
     "name": "stderr",
     "output_type": "stream",
     "text": [
      "C:\\Users\\Brendan Mckeown\\AppData\\Local\\Temp\\ipykernel_14684\\4143627041.py:2: SettingWithCopyWarning: \n",
      "A value is trying to be set on a copy of a slice from a DataFrame.\n",
      "Try using .loc[row_indexer,col_indexer] = value instead\n",
      "\n",
      "See the caveats in the documentation: https://pandas.pydata.org/pandas-docs/stable/user_guide/indexing.html#returning-a-view-versus-a-copy\n",
      "  demographic_codes['ICD9_CODE'] = pd.to_numeric(demographic_codes['ICD9_CODE'], errors='coerce')\n"
     ]
    }
   ],
   "source": [
    "# remove codes that are not numbers\n",
    "demographic_codes['ICD9_CODE'] = pd.to_numeric(demographic_codes['ICD9_CODE'], errors='coerce')\n",
    "demographic_codes = demographic_codes.dropna(subset=['ICD9_CODE'])"
   ]
  },
  {
   "cell_type": "code",
   "execution_count": 20,
   "metadata": {},
   "outputs": [
    {
     "data": {
      "text/plain": [
       "250.0    1800\n",
       "38.0      608\n",
       "428.0     568\n",
       "403.0     411\n",
       "996.0     391\n",
       "         ... \n",
       "692.0       1\n",
       "596.0       1\n",
       "156.0       1\n",
       "199.0       1\n",
       "293.0       1\n",
       "Name: ICD9_CODE, Length: 257, dtype: int64"
      ]
     },
     "execution_count": 20,
     "metadata": {},
     "output_type": "execute_result"
    }
   ],
   "source": [
    "demographics_codes_top10 = demographic_codes['ICD9_CODE'].value_counts()\n",
    "demographics_codes_top10"
   ]
  },
  {
   "cell_type": "markdown",
   "metadata": {},
   "source": [
    "# Get the latest vist for each patient \n",
    "Check later - B"
   ]
  },
  {
   "cell_type": "code",
   "execution_count": 21,
   "metadata": {},
   "outputs": [],
   "source": [
    "demographic_codes = demographic_codes.loc[demographic_codes.groupby('SUBJECT_ID')['HADM_ID'].idxmax()]"
   ]
  },
  {
   "cell_type": "markdown",
   "metadata": {},
   "source": [
    "# If the patient is a current or previous tobacco user, a 1 will appear in the column "
   ]
  },
  {
   "cell_type": "code",
   "execution_count": 22,
   "metadata": {},
   "outputs": [],
   "source": [
    "def check_past_tobacco(subject_id):\n",
    "    return 1 if subject_id in past_tobacco_subject else 0\n",
    "\n",
    "def check_current_tobacco(subject_id):\n",
    "    return 1 if subject_id in current_tobacco_subject else 0\n",
    "\n",
    "# Apply the function to create the new column\n",
    "demographic_codes['past_tobacco'] = demographic_codes['SUBJECT_ID'].apply(check_past_tobacco)\n",
    "demographic_codes['current_tobacco'] = demographic_codes['SUBJECT_ID'].apply(check_current_tobacco)\n"
   ]
  },
  {
   "cell_type": "markdown",
   "metadata": {},
   "source": [
    "# Encode labels for diagnois, gender and ethncity and spilt into training and testing subsets"
   ]
  },
  {
   "cell_type": "code",
   "execution_count": 23,
   "metadata": {},
   "outputs": [],
   "source": [
    "demographics_df1_holder = demographic_codes[['DIAGNOSIS','GENDER', 'DOB', 'ETHNICITY','AGE', 'ICD9_CODE', 'Z_Score_BP','Z_Score_HR','max_x','min_x','max_y','min_y', 'past_tobacco', 'current_tobacco']]\n",
    "demographics_array1 = demographics_df1_holder.to_numpy()\n",
    "diagnosis_array = demographics_array1[:,0]\n",
    "gender_array = demographics_array1[:,1]\n",
    "ethnicity_array = demographics_array1[:,3]\n",
    "\n",
    "demographics_array1[:,0] = le1.fit_transform(diagnosis_array)\n",
    "demographics_array1[:,1] = le2.fit_transform(gender_array)\n",
    "demographics_array1[:,3] = le3.fit_transform(ethnicity_array)\n",
    "\n",
    "training_cont = demographics_array1[:, 1:]\n",
    "testing_cont = demographics_array1[:,0]"
   ]
  },
  {
   "cell_type": "markdown",
   "metadata": {},
   "source": [
    "# Top 10 Diagnosis"
   ]
  },
  {
   "cell_type": "code",
   "execution_count": 24,
   "metadata": {},
   "outputs": [
    {
     "data": {
      "text/html": [
       "<div>\n",
       "<style scoped>\n",
       "    .dataframe tbody tr th:only-of-type {\n",
       "        vertical-align: middle;\n",
       "    }\n",
       "\n",
       "    .dataframe tbody tr th {\n",
       "        vertical-align: top;\n",
       "    }\n",
       "\n",
       "    .dataframe thead th {\n",
       "        text-align: right;\n",
       "    }\n",
       "</style>\n",
       "<table border=\"1\" class=\"dataframe\">\n",
       "  <thead>\n",
       "    <tr style=\"text-align: right;\">\n",
       "      <th></th>\n",
       "      <th>DIAGNOSIS</th>\n",
       "      <th>Frequency</th>\n",
       "    </tr>\n",
       "  </thead>\n",
       "  <tbody>\n",
       "    <tr>\n",
       "      <th>0</th>\n",
       "      <td>PNEUMONIA</td>\n",
       "      <td>227</td>\n",
       "    </tr>\n",
       "    <tr>\n",
       "      <th>1</th>\n",
       "      <td>SEPSIS</td>\n",
       "      <td>167</td>\n",
       "    </tr>\n",
       "    <tr>\n",
       "      <th>2</th>\n",
       "      <td>CONGESTIVE HEART FAILURE</td>\n",
       "      <td>163</td>\n",
       "    </tr>\n",
       "    <tr>\n",
       "      <th>3</th>\n",
       "      <td>DIABETIC KETOACIDOSIS</td>\n",
       "      <td>148</td>\n",
       "    </tr>\n",
       "    <tr>\n",
       "      <th>4</th>\n",
       "      <td>ALTERED MENTAL STATUS</td>\n",
       "      <td>94</td>\n",
       "    </tr>\n",
       "    <tr>\n",
       "      <th>5</th>\n",
       "      <td>FEVER</td>\n",
       "      <td>87</td>\n",
       "    </tr>\n",
       "    <tr>\n",
       "      <th>6</th>\n",
       "      <td>CHEST PAIN</td>\n",
       "      <td>84</td>\n",
       "    </tr>\n",
       "    <tr>\n",
       "      <th>7</th>\n",
       "      <td>ABDOMINAL PAIN</td>\n",
       "      <td>84</td>\n",
       "    </tr>\n",
       "    <tr>\n",
       "      <th>8</th>\n",
       "      <td>HYPOTENSION</td>\n",
       "      <td>71</td>\n",
       "    </tr>\n",
       "    <tr>\n",
       "      <th>9</th>\n",
       "      <td>LOWER GI BLEED</td>\n",
       "      <td>55</td>\n",
       "    </tr>\n",
       "  </tbody>\n",
       "</table>\n",
       "</div>"
      ],
      "text/plain": [
       "                  DIAGNOSIS  Frequency\n",
       "0                 PNEUMONIA        227\n",
       "1                    SEPSIS        167\n",
       "2  CONGESTIVE HEART FAILURE        163\n",
       "3     DIABETIC KETOACIDOSIS        148\n",
       "4     ALTERED MENTAL STATUS         94\n",
       "5                     FEVER         87\n",
       "6                CHEST PAIN         84\n",
       "7            ABDOMINAL PAIN         84\n",
       "8               HYPOTENSION         71\n",
       "9            LOWER GI BLEED         55"
      ]
     },
     "execution_count": 24,
     "metadata": {},
     "output_type": "execute_result"
    }
   ],
   "source": [
    "top_10_codes_df1"
   ]
  },
  {
   "cell_type": "code",
   "execution_count": 25,
   "metadata": {},
   "outputs": [],
   "source": [
    "from tensorflow import keras\n",
    "from keras import layers\n",
    "from keras.layers import Input, Concatenate, Dense\n",
    "from keras.models import Model, Sequential\n",
    "from sklearn.model_selection import train_test_split\n",
    "from sklearn.linear_model import LinearRegression\n",
    "from sklearn.metrics import mean_squared_error\n",
    "from sklearn.svm import SVC\n",
    "from sklearn.neighbors import KNeighborsClassifier\n",
    "from sklearn.linear_model import LogisticRegression\n",
    "\n",
    "\n",
    "# X_train, X_test, y_train, y_test = train_test_split(training_cont, testing_cont, test_size=0.3, random_state=422)\n",
    "# X_train = X_train.astype(np.float64)\n",
    "# X_test = X_test.astype(np.float64)\n",
    "# y_train = y_train.astype(np.float64)\n",
    "# y_test = y_test.astype(np.float64)\n"
   ]
  },
  {
   "cell_type": "markdown",
   "metadata": {},
   "source": [
    "## Unstructured Dataset Preprocesing \n",
    "Read in appropiate tables from MIMIC-III\n",
    "* Notevents"
   ]
  },
  {
   "cell_type": "code",
   "execution_count": 26,
   "metadata": {},
   "outputs": [
    {
     "name": "stderr",
     "output_type": "stream",
     "text": [
      "C:\\Users\\Brendan Mckeown\\AppData\\Local\\Packages\\PythonSoftwareFoundation.Python.3.9_qbz5n2kfra8p0\\LocalCache\\local-packages\\Python39\\site-packages\\IPython\\core\\interactiveshell.py:3508: DtypeWarning: Columns (4,5) have mixed types.Specify dtype option on import or set low_memory=False.\n",
      "  exec(code_obj, self.user_global_ns, self.user_ns)\n"
     ]
    }
   ],
   "source": [
    "df_notes = pd.read_csv(\"mimic_bow/NOTEEVENTS.csv\")\n"
   ]
  },
  {
   "cell_type": "code",
   "execution_count": 27,
   "metadata": {},
   "outputs": [],
   "source": [
    "def preprocess_text(df):\n",
    "    # This function preprocesses the text by filling not a number and replacing new lines ('\\n') and carriage returns ('\\r')\n",
    "    df.TEXT = df.TEXT.fillna(' ') # remove nan values\n",
    "    df.TEXT = df.TEXT.str.replace('\\n',' ') # remove new lines breaks\n",
    "    df.TEXT = df.TEXT.str.replace('\\r',' ') # remove line breaks\n",
    "    df.TEXT = df.TEXT.str.replace('\\d+', ' ', regex=True) # remove numbers\n",
    "    return df\n",
    "df_notes = preprocess_text(df_notes)"
   ]
  },
  {
   "cell_type": "markdown",
   "metadata": {},
   "source": [
    "Only use discharge summaries for notes as these contain the most feature rich data for each patient (source?)"
   ]
  },
  {
   "cell_type": "code",
   "execution_count": 28,
   "metadata": {},
   "outputs": [],
   "source": [
    "values = ['Discharge summary']\n",
    "df_notes_filtered = df_notes.loc[df_notes['CATEGORY'].isin(values)]"
   ]
  },
  {
   "cell_type": "code",
   "execution_count": 29,
   "metadata": {},
   "outputs": [],
   "source": [
    "merged_df = df_notes_filtered.merge(demographics_df1[['SUBJECT_ID', 'DIAGNOSIS']], on='SUBJECT_ID', how='inner')"
   ]
  },
  {
   "cell_type": "code",
   "execution_count": 30,
   "metadata": {},
   "outputs": [
    {
     "data": {
      "text/html": [
       "<div>\n",
       "<style scoped>\n",
       "    .dataframe tbody tr th:only-of-type {\n",
       "        vertical-align: middle;\n",
       "    }\n",
       "\n",
       "    .dataframe tbody tr th {\n",
       "        vertical-align: top;\n",
       "    }\n",
       "\n",
       "    .dataframe thead th {\n",
       "        text-align: right;\n",
       "    }\n",
       "</style>\n",
       "<table border=\"1\" class=\"dataframe\">\n",
       "  <thead>\n",
       "    <tr style=\"text-align: right;\">\n",
       "      <th></th>\n",
       "      <th>SUBJECT_ID</th>\n",
       "      <th>HADM_ID</th>\n",
       "      <th>DIAGNOSIS</th>\n",
       "      <th>TEXT</th>\n",
       "    </tr>\n",
       "  </thead>\n",
       "  <tbody>\n",
       "    <tr>\n",
       "      <th>0</th>\n",
       "      <td>11018</td>\n",
       "      <td>104650.0</td>\n",
       "      <td>PNEUMONIA</td>\n",
       "      <td>Admission Date:  [** - - **]              Disc...</td>\n",
       "    </tr>\n",
       "    <tr>\n",
       "      <th>1</th>\n",
       "      <td>11018</td>\n",
       "      <td>104650.0</td>\n",
       "      <td>ABDOMINAL PAIN</td>\n",
       "      <td>Admission Date:  [** - - **]              Disc...</td>\n",
       "    </tr>\n",
       "    <tr>\n",
       "      <th>2</th>\n",
       "      <td>11018</td>\n",
       "      <td>186291.0</td>\n",
       "      <td>PNEUMONIA</td>\n",
       "      <td>Admission Date:  [** - - **]              Disc...</td>\n",
       "    </tr>\n",
       "    <tr>\n",
       "      <th>3</th>\n",
       "      <td>11018</td>\n",
       "      <td>186291.0</td>\n",
       "      <td>ABDOMINAL PAIN</td>\n",
       "      <td>Admission Date:  [** - - **]              Disc...</td>\n",
       "    </tr>\n",
       "    <tr>\n",
       "      <th>4</th>\n",
       "      <td>11018</td>\n",
       "      <td>180836.0</td>\n",
       "      <td>PNEUMONIA</td>\n",
       "      <td>Admission Date:  [** - - **]              Disc...</td>\n",
       "    </tr>\n",
       "    <tr>\n",
       "      <th>...</th>\n",
       "      <td>...</td>\n",
       "      <td>...</td>\n",
       "      <td>...</td>\n",
       "      <td>...</td>\n",
       "    </tr>\n",
       "    <tr>\n",
       "      <th>7936</th>\n",
       "      <td>6378</td>\n",
       "      <td>199603.0</td>\n",
       "      <td>PNEUMONIA</td>\n",
       "      <td>Admission Date:  [** - - **]              Disc...</td>\n",
       "    </tr>\n",
       "    <tr>\n",
       "      <th>7937</th>\n",
       "      <td>6378</td>\n",
       "      <td>199603.0</td>\n",
       "      <td>CONGESTIVE HEART FAILURE</td>\n",
       "      <td>Admission Date:  [** - - **]              Disc...</td>\n",
       "    </tr>\n",
       "    <tr>\n",
       "      <th>7938</th>\n",
       "      <td>6378</td>\n",
       "      <td>199603.0</td>\n",
       "      <td>PNEUMONIA</td>\n",
       "      <td>Admission Date:  [** - - **]              Disc...</td>\n",
       "    </tr>\n",
       "    <tr>\n",
       "      <th>7939</th>\n",
       "      <td>29305</td>\n",
       "      <td>191380.0</td>\n",
       "      <td>ABDOMINAL PAIN</td>\n",
       "      <td>Admission Date:  [** - - **]              Disc...</td>\n",
       "    </tr>\n",
       "    <tr>\n",
       "      <th>7940</th>\n",
       "      <td>29305</td>\n",
       "      <td>138308.0</td>\n",
       "      <td>ABDOMINAL PAIN</td>\n",
       "      <td>Admission Date:  [** - - **]              [**M...</td>\n",
       "    </tr>\n",
       "  </tbody>\n",
       "</table>\n",
       "<p>7941 rows × 4 columns</p>\n",
       "</div>"
      ],
      "text/plain": [
       "      SUBJECT_ID   HADM_ID                 DIAGNOSIS  \\\n",
       "0          11018  104650.0                 PNEUMONIA   \n",
       "1          11018  104650.0            ABDOMINAL PAIN   \n",
       "2          11018  186291.0                 PNEUMONIA   \n",
       "3          11018  186291.0            ABDOMINAL PAIN   \n",
       "4          11018  180836.0                 PNEUMONIA   \n",
       "...          ...       ...                       ...   \n",
       "7936        6378  199603.0                 PNEUMONIA   \n",
       "7937        6378  199603.0  CONGESTIVE HEART FAILURE   \n",
       "7938        6378  199603.0                 PNEUMONIA   \n",
       "7939       29305  191380.0            ABDOMINAL PAIN   \n",
       "7940       29305  138308.0            ABDOMINAL PAIN   \n",
       "\n",
       "                                                   TEXT  \n",
       "0     Admission Date:  [** - - **]              Disc...  \n",
       "1     Admission Date:  [** - - **]              Disc...  \n",
       "2     Admission Date:  [** - - **]              Disc...  \n",
       "3     Admission Date:  [** - - **]              Disc...  \n",
       "4     Admission Date:  [** - - **]              Disc...  \n",
       "...                                                 ...  \n",
       "7936  Admission Date:  [** - - **]              Disc...  \n",
       "7937  Admission Date:  [** - - **]              Disc...  \n",
       "7938  Admission Date:  [** - - **]              Disc...  \n",
       "7939  Admission Date:  [** - - **]              Disc...  \n",
       "7940  Admission Date:  [** - - **]              [**M...  \n",
       "\n",
       "[7941 rows x 4 columns]"
      ]
     },
     "execution_count": 30,
     "metadata": {},
     "output_type": "execute_result"
    }
   ],
   "source": [
    "merged_df = merged_df[['SUBJECT_ID','HADM_ID', 'DIAGNOSIS', 'TEXT']]\n",
    "merged_df"
   ]
  },
  {
   "cell_type": "markdown",
   "metadata": {},
   "source": [
    "# Only use patient that have discharge summaries in the noteevents table"
   ]
  },
  {
   "cell_type": "code",
   "execution_count": 31,
   "metadata": {},
   "outputs": [],
   "source": [
    "merged_df = merged_df.loc[merged_df['SUBJECT_ID'].isin(unique_ids_proper1)]# in chart events"
   ]
  },
  {
   "cell_type": "code",
   "execution_count": 32,
   "metadata": {},
   "outputs": [],
   "source": [
    "# Get latest discharge summary per vist\n",
    "merged_df = (merged_df.groupby(['SUBJECT_ID','HADM_ID']).nth(-1)).reset_index()"
   ]
  },
  {
   "cell_type": "markdown",
   "metadata": {},
   "source": [
    "Import libaries for tf-idf and word tokenization"
   ]
  },
  {
   "cell_type": "code",
   "execution_count": 33,
   "metadata": {},
   "outputs": [],
   "source": [
    "import nltk\n",
    "from nltk.corpus import stopwords\n",
    "from nltk.tokenize import word_tokenize\n",
    "import re"
   ]
  },
  {
   "cell_type": "code",
   "execution_count": 34,
   "metadata": {},
   "outputs": [],
   "source": [
    "# Text preprocessing: lowercase, remove non-alphanumeric characters, and tokenize\n",
    "def preprocess_text1(text):\n",
    "    text = text.lower()\n",
    "    text = re.sub(r'[^a-zA-Z\\s]', '', text)\n",
    "    words = word_tokenize(text)\n",
    "    return ' '.join(words)"
   ]
  },
  {
   "cell_type": "code",
   "execution_count": 35,
   "metadata": {},
   "outputs": [],
   "source": [
    "\n",
    "merged_df['cleaned_text'] = merged_df['TEXT'].apply(preprocess_text1)\n"
   ]
  },
  {
   "cell_type": "markdown",
   "metadata": {},
   "source": [
    "Remove unnecessary stop-words"
   ]
  },
  {
   "cell_type": "code",
   "execution_count": 36,
   "metadata": {},
   "outputs": [],
   "source": [
    "from nltk.corpus import stopwords\n",
    "\n",
    "stop_words1 = list(stopwords.words('english'))"
   ]
  },
  {
   "cell_type": "code",
   "execution_count": 37,
   "metadata": {},
   "outputs": [],
   "source": [
    "# Also remove words that are frequently used in the discharge summaries that are irrelevant\n",
    "my_stop_words = ['the','and','to','of','was','with','a','on','in','for','name',\n",
    "                 'is','patient','s','he','at','as','or','one','she','his','her','am',\n",
    "                 'were','you','pt','pm','by','be','had','your','this','date',\n",
    "                'from','there','an','that','p','are','have','has','h','but','o',\n",
    "                'namepattern','which','every','also', 'admission', 'date', 'discharge', 'birth', 'sex', 'service', \n",
    "                'known', 'firstname', 'lastname','medicine', 'allergies'] \n",
    "\n",
    "stop_words = my_stop_words + stop_words1 \n",
    "merged_df['cleaned_text'] = merged_df['cleaned_text'].apply(lambda x: ' '.join([word for word in word_tokenize(x) if word not in stop_words]))"
   ]
  },
  {
   "cell_type": "code",
   "execution_count": 38,
   "metadata": {},
   "outputs": [
    {
     "data": {
      "text/plain": [
       "0                   PNEUMONIA\n",
       "1    CONGESTIVE HEART FAILURE\n",
       "2                      SEPSIS\n",
       "3       ALTERED MENTAL STATUS\n",
       "4              ABDOMINAL PAIN\n",
       "5       DIABETIC KETOACIDOSIS\n",
       "6                  CHEST PAIN\n",
       "7                 HYPOTENSION\n",
       "8                       FEVER\n",
       "9              LOWER GI BLEED\n",
       "Name: DIAGNOSIS, dtype: object"
      ]
     },
     "execution_count": 38,
     "metadata": {},
     "output_type": "execute_result"
    }
   ],
   "source": [
    "top_10_codes = merged_df['DIAGNOSIS'].value_counts().nlargest(10)\n",
    "top_10_codes_df = top_10_codes.reset_index()\n",
    "top_10_codes_df.columns = ['DIAGNOSIS', 'Frequency']\n",
    "top10 = top_10_codes_df['DIAGNOSIS']\n",
    "top10"
   ]
  },
  {
   "cell_type": "markdown",
   "metadata": {},
   "source": [
    "Only use top 10 most frequent diagnoses"
   ]
  },
  {
   "cell_type": "code",
   "execution_count": 39,
   "metadata": {},
   "outputs": [],
   "source": [
    "top_10_codes = merged_df['DIAGNOSIS'].value_counts().nlargest(10)\n",
    "top_10_codes_df = top_10_codes.reset_index()\n",
    "top_10_codes_df.columns = ['DIAGNOSIS', 'Frequency']\n",
    "top10 = top_10_codes_df['DIAGNOSIS']\n",
    "merged_df1 = merged_df.loc[merged_df['DIAGNOSIS'].isin(top10)]"
   ]
  },
  {
   "cell_type": "markdown",
   "metadata": {},
   "source": [
    "# TF-IDF Vectorization of Text"
   ]
  },
  {
   "cell_type": "code",
   "execution_count": 40,
   "metadata": {},
   "outputs": [
    {
     "data": {
      "text/plain": [
       "'adverse drug reactions attendingfirst lf chief complaint weaknessfever major surgical invasive procedure none history present illness yo male hx avr cad sp cabg mds pancyopenia nonhodgkins lymphoma parkinsons relaeased hospital months ago pneumonia brought ecf fever new weakness sob says cough sob last weeks today unable get go bathroom denies fevers prior today denies pains including chest abdominal pain ed cxr showed possible rll pna versus atelectasis ua neg got sets blood cultures given vanczosynazithro ed emperic coverage hcap tylenol earlier day fever l ivf ekg showed sinus tachycardia ed arrival micu rigors febrile time cough pain review systems per hpi denies night sweats recent weight loss gain denies headache sinus tenderness rhinorrhea congestion denies chest pain chest pressure palpitations weakness denies nausea vomiting diarrhea constipation abdominal pain changes bowel habits denies dysuria frequency urgency denies arthralgias myalgias denies rashes skin changes past medical history sp porcine aortic valve replacement cad sp cabg x lima lad svg om ckd depression anxiety currently treated diazepam qhs previously effexor benzo seroquel stopped due epspd hyperlipidemia crestor hypothyrodism tremor gait disorder thought dr last stitle primarily due posterior column dysfunction bph sp turp longer flomax nocturia x hourly nonhodgkins lymphoma sp chemobmt osh remission current thrombocytonia osa prior sleep study refuses cpap wife says snoring miii miv airway extra neck soft tissues social history married kids ca visited lives wife retired cigarette sales agochronicprogressive health problems smoked heavily military ago quit cigs smokes occasional cigars inhale many years says beers per night formerly drank heavily years ago retired denies ho illicit drug use supplements family history noncontributory physical exam exam vitals bp r general alert rigors heent sclera anicteric mmm oropharynx clear eomi perrl neck supple lad cv tachycardic crisp rubs gallops lungs scattered wheezes abdomen soft nontender nondistended bowel sounds present gu foley ext warm well perfused pulses clubbing cyanosis edema neuro cniixii intact strength upperlower extremities grossly normal sensation exam pertinent results wbc rbc hgb hct mcv mch mchc rdw neuts bands lymphs monos eos basos atyps metas myelos blasts nuc rbcs hypochrom anisocyt poikilocyoccasional macrocyt microcyt polychromnormal ovalocytoccasional plt smrvery low plt count ptt inrpt calcium phosphate magnesium ckmb ctropnt ckcpk glucose urea n creat sodium potassium chloride total co anion gap lactate urine rbc wbc bacteriafew yeastnone epi urine bloodtr nitriteneg proteinneg glucoseneg ketoneneg bilirubinneg urobilngnneg ph leukneg urine coloryellow appearclear sp last un urine uholdhold urine hoursrandom cxr pa lateral status post median sternotomy cabg heart remains mildly enlarged left ventricular predominance status post aortic valve replacement mediastinal contours unchanged mild calcification aortic knob demonstrated well mildly tortuous course thoracic aorta pulmonary vascularity engorged streaky opacities lung bases nonspecific possibly reflecting atelectasis though infection excluded pleural effusion pneumothorax visualized acute osseous abnormalities impression streaky bibasilar opacities could reflect atelectasis though infection completely excluded brief hospital course yo male hx avr cad sp cabg mds pancyopenia nonhodgkins lymphoma parkinsons relaeased hospital months ago pneumonia returns hcap new fib w rvr treated icu transferred floor complete day course antibiotics hcap pneumoniasepsis initially sirs criteria presented dry cough x weeks new weakness cxr concerning new rll inflitate pts history parkinsons disease risk aspiration due dysphagia thus cause recurrent pneumonia pts fever curve improved vancomycin cefepime azithromycin day course blood cultures negative pts dry cough improve cough syrup tessalon perles nebulizer treatments thus ent consult found mild irritation vocal cords likely related acid reflux viral infection laryngoscopy show vocal cord paralysis structurally normal cough mildly improved floor still significant cough started prednisone mg po daily day total course end new atrial fib w rvr likely due stress increasing cardic output septic picture concerns included thyroid new ischemia tsh normal cardiac enzymes negative rate controlled metoprolol mg tid successfully converted ns rhythm echo done showed lvef thrombus pts chads score aspirin held due thrombocytopenia metoprolol discontinued given reactive airways wheezing stopping tended borderline tachyardia intermittent atrial fibrillation bigeminal pacs pulmonary symptoms resolve metoprolol considered tachycardiaafib persists rehab parkinsons disease continued home pramipexole course evaluated speech swallow dysphagia cleared regular solid po intake mdsnonhodgkins lymphoma sp chemo bmt chronic thrombocytopenia bleeding issues required transfusion unit platelets prior picc line placement otherwised remained transfusion threshold without evidence bleeding hyperlipidemia rosuvastatin continued throughout course bph tamsulosin continued throughout course depressionanxiety stable prn diazepam requiring approximately additional dose diazepam daily hypothyroid continue home levothyroxine sodium mcg po daily tsh normal left ear ceurmen stable constipation continued lactulose polyethylene glycol docusate sodium mg po bid senna tab po bid transitional issues consider starting metoprolol new atrial fibrillation started house discontinued given reactive airways restarted continues tachycardiaafib pulm symptoms resolve continue full treatment hcap vancomycin g iv q cefepime g iv q picc line picc line okay use nursing staff rehab cxr confirmed placement used started prednisone mg po daily reactive airways continue started high dose ppi house given ent evaluation laryngeal inflammation possible reflux discussed pcp pre weeks continued high dose ppi multiple risks weighed medications preadmission medications listed correct complete information obtained record diazepam mg po dailyprn anxiety lactulose ml po daily constipation polyethylene glycol g po dailyprn constipation ondansetron mg po q hprn nausea acetaminophen mg po q hprn painfever codeine sulfate mg po q cough guaifenesindextromethorphan ml po q hprn cough benzonatate mg po tidprn cough docusate sodium mg po bid senna tab po bid pramipexole nf mg oral tid parkinsons albuterol neb soln neb ih q hprn sob levofloxacin mg po q pna duration days levothyroxine sodium mcg po daily tamsulosin mg po hs bph carbamide peroxide drop ad qhs duration days left ear bedtime rosuvastatin calcium mg po daily medications carbamide peroxide drop ad qhs duration days left ear bedtime acetaminophen mg po q hprn painfever albuterol neb soln neb ih q hprn sob benzonatate mg po tidprn cough codeine sulfate mg po q cough diazepam mg po dailyprn anxiety docusate sodium mg po bid guaifenesindextromethorphan ml po q hprn cough lactulose ml po daily constipation levothyroxine sodium mcg po daily ondansetron mg po q hprn nausea polyethylene glycol g po dailyprn constipation pramipexole nf mg oral tid parkinsons rosuvastatin calcium mg po daily senna tab po bid tamsulosin mg po hs bph cefepime g iv q continue vancomycin mg iv q continue prednisone mg po daily duration days continue disposition extended care facility first first last living diagnosis primary health care associated pneumonia new atrial fibrillation secondary myelodysplastic syndrome thrombocytopenia condition afebrile stable vitals satting mid ra fib borderline tachycardic lung exam inspiratory expiratory wheezing transmitted upper airway sounds breathing nonlabored mental status clear coherent level consciousness alert interactive activity status ambulatory walker aid instructions dear mr admitted hospital symptoms concerning pneumonia treated pneumonia antibiotics fevers resolved need continue taking antibiotics rehab facility picc line placed left arm placement confirmed xray antibiotics given rehab started steroids prednisone total days help breathing pleasure taking care hospital followup instructions department cardiac services thursday first last md telephonefax building sc hospital ward clinical ctr location un campus east best parking hospital ward garage working follow appt dr last stitle hospital called homerehab appointment heard questions please call telephonefax department dermatology monday doctor last telephonefax building sc hospital ward clinical ctr location un campus east best parking hospital ward garage department cardiac services thursday first last md telephonefax building sc hospital ward clinical ctr location un campus east best parking hospital ward garage department hospital wednesday first pattern last md telephonefax building sc hospital ward clinical ctr location un campus east best parking hospital ward garage first last md md number completed'"
      ]
     },
     "execution_count": 40,
     "metadata": {},
     "output_type": "execute_result"
    }
   ],
   "source": [
    "merged_df1.cleaned_text[0]"
   ]
  },
  {
   "cell_type": "code",
   "execution_count": 41,
   "metadata": {},
   "outputs": [],
   "source": [
    "from sklearn.feature_extraction.text import TfidfVectorizer\n",
    "\n",
    "# TF-IDF Vectorization\n",
    "tfidf_vectorizer = TfidfVectorizer()\n",
    "tfidf_matrix_all = tfidf_vectorizer.fit_transform(merged_df1['cleaned_text'])"
   ]
  },
  {
   "cell_type": "markdown",
   "metadata": {},
   "source": [
    "## Fusion of Structured and Unstructured Datasets - Early Fusion"
   ]
  },
  {
   "cell_type": "markdown",
   "metadata": {},
   "source": [
    "Merge strucutred and unstructured datasets"
   ]
  },
  {
   "cell_type": "code",
   "execution_count": 42,
   "metadata": {},
   "outputs": [],
   "source": [
    "all_df = demographic_codes.merge(merged_df, on='SUBJECT_ID', how='inner')"
   ]
  },
  {
   "cell_type": "markdown",
   "metadata": {},
   "source": [
    "# Prep strucutred"
   ]
  },
  {
   "cell_type": "code",
   "execution_count": 43,
   "metadata": {},
   "outputs": [],
   "source": [
    "structured_df = all_df[['SUBJECT_ID','DIAGNOSIS_x','GENDER', 'DOB', 'ETHNICITY','AGE', 'ICD9_CODE', 'Z_Score_BP','Z_Score_HR','max_x','min_x','max_y','min_y', 'past_tobacco', 'current_tobacco']]\n",
    "structured_df = structured_df.dropna()\n",
    "structured_df_df_top10 = structured_df['DIAGNOSIS_x'].value_counts().nlargest(10)\n",
    "top_10_codes_strucutred = structured_df_df_top10.reset_index()\n",
    "top_10_codes_strucutred.columns = ['DIAGNOSIS_x', 'Frequency']\n",
    "top10_strucutred = top_10_codes_strucutred['DIAGNOSIS_x']\n",
    "\n",
    "structured_df = structured_df.loc[structured_df['DIAGNOSIS_x'].isin(top10_strucutred)]\n",
    "unique_ids_strut = structured_df.SUBJECT_ID.unique()\n",
    "structured_df1 = structured_df[['DIAGNOSIS_x','GENDER', 'DOB', 'ETHNICITY','AGE', 'ICD9_CODE', 'Z_Score_BP','Z_Score_HR','max_x','min_x','max_y','min_y', 'past_tobacco', 'current_tobacco']]\n",
    "strucutred_array1 = structured_df1.to_numpy()\n",
    "diagnosis_array_strut = strucutred_array1[:,0]\n",
    "gender_array_strut = strucutred_array1[:,1]\n",
    "ethnicity_array_strut = strucutred_array1[:,3]\n",
    "\n",
    "strucutred_array1[:,0] = le1.fit_transform(diagnosis_array_strut)\n",
    "strucutred_array1[:,1] = le2.fit_transform(gender_array_strut)\n",
    "strucutred_array1[:,3] = le3.fit_transform(ethnicity_array_strut)\n",
    "\n",
    "training_cont_strut = strucutred_array1[:, 1:]\n",
    "testing_cont_strut = strucutred_array1[:,0]\n",
    "\n",
    "X_train_sturt, X_test_strut, y_train_strut, y_test_strut = train_test_split(training_cont_strut, testing_cont_strut, test_size=0.3, random_state=421)\n",
    "\n",
    "X_train_sturt = X_train_sturt.astype(np.float64)\n",
    "X_test_strut = X_test_strut.astype(np.float64)\n",
    "y_train_strut = y_train_strut.astype(np.float64)\n",
    "y_test_strut = y_test_strut.astype(np.float64)"
   ]
  },
  {
   "cell_type": "markdown",
   "metadata": {},
   "source": [
    "## Unstructured Prep"
   ]
  },
  {
   "cell_type": "code",
   "execution_count": 44,
   "metadata": {},
   "outputs": [],
   "source": [
    "from sklearn.feature_selection import SelectKBest\n",
    "from sklearn.feature_selection import chi2\n",
    "all_df_unstrut = all_df[['SUBJECT_ID','HADM_ID_x', 'DIAGNOSIS_x', 'TEXT', 'cleaned_text']]\n",
    "all_df_unstrut = all_df_unstrut.loc[all_df_unstrut['SUBJECT_ID'].isin(unique_ids_strut)]# in chart events\n",
    "\n",
    "top_10_codes_unstrut = all_df_unstrut['DIAGNOSIS_x'].value_counts().nlargest(10)\n",
    "top_10_codes_df_unstrut = top_10_codes_unstrut.reset_index()\n",
    "top_10_codes_df_unstrut.columns = ['DIAGNOSIS_x', 'Frequency']\n",
    "top10_unstrut = top_10_codes_df_unstrut['DIAGNOSIS_x']\n",
    "all_df_unstrut = all_df_unstrut.loc[all_df_unstrut['DIAGNOSIS_x'].isin(top10_unstrut)]\n",
    "tfidf_vectorizer = TfidfVectorizer()\n",
    "\n",
    "tfidf_matrix_unstrut = tfidf_vectorizer.fit_transform(all_df_unstrut['cleaned_text'])\n",
    "\n",
    "X_unstrut = tfidf_matrix_unstrut\n",
    "y_unstrut = le1.fit_transform(all_df_unstrut['DIAGNOSIS_x'])\n",
    "# Set k to the number of top features you want to keep\n",
    "selector = SelectKBest(score_func=chi2, k=5000) \n",
    "X_unstrut = selector.fit_transform(X_unstrut, y_unstrut)\n",
    "X_train_un, X_test_un, y_train_un, y_test_un = train_test_split(X_unstrut, y_unstrut, test_size=0.3, random_state=421)\n",
    "X_train_un = X_train_un.toarray()\n",
    "X_test_un = X_test_un.toarray()"
   ]
  },
  {
   "cell_type": "markdown",
   "metadata": {},
   "source": [
    "## Concatenate the training and testing of the Structured and Unstructured"
   ]
  },
  {
   "cell_type": "code",
   "execution_count": 45,
   "metadata": {},
   "outputs": [],
   "source": [
    "train_concate_x = np.concatenate((X_train_sturt,X_train_un), axis=1)\n",
    "test_concate_x = np.concatenate((X_test_strut,X_test_un), axis=1)"
   ]
  },
  {
   "cell_type": "markdown",
   "metadata": {},
   "source": [
    "Train and test datasets are equal"
   ]
  },
  {
   "cell_type": "code",
   "execution_count": 46,
   "metadata": {},
   "outputs": [
    {
     "name": "stdout",
     "output_type": "stream",
     "text": [
      "True\n",
      "True\n"
     ]
    }
   ],
   "source": [
    "result1 = np.array_equal(y_test_un, y_test_strut)\n",
    "result2 = np.array_equal(y_train_strut, y_train_un)\n",
    "print(result1)\n",
    "print(result2)"
   ]
  },
  {
   "cell_type": "markdown",
   "metadata": {},
   "source": [
    "## Testing of Concatenated Data\n",
    "# Logisitic Regression"
   ]
  },
  {
   "cell_type": "code",
   "execution_count": 47,
   "metadata": {},
   "outputs": [],
   "source": [
    "import random\n",
    "\n",
    "# Generate a random number between 1 and 999\n",
    "random_number = random.randint(1, 999)"
   ]
  },
  {
   "cell_type": "code",
   "execution_count": 48,
   "metadata": {},
   "outputs": [
    {
     "name": "stderr",
     "output_type": "stream",
     "text": [
      "C:\\Users\\Brendan Mckeown\\AppData\\Local\\Packages\\PythonSoftwareFoundation.Python.3.9_qbz5n2kfra8p0\\LocalCache\\local-packages\\Python39\\site-packages\\sklearn\\utils\\optimize.py:210: ConvergenceWarning: newton-cg failed to converge. Increase the number of iterations.\n",
      "  warnings.warn(\n",
      "C:\\Users\\Brendan Mckeown\\AppData\\Local\\Packages\\PythonSoftwareFoundation.Python.3.9_qbz5n2kfra8p0\\LocalCache\\local-packages\\Python39\\site-packages\\sklearn\\utils\\optimize.py:210: ConvergenceWarning: newton-cg failed to converge. Increase the number of iterations.\n",
      "  warnings.warn(\n",
      "C:\\Users\\Brendan Mckeown\\AppData\\Local\\Packages\\PythonSoftwareFoundation.Python.3.9_qbz5n2kfra8p0\\LocalCache\\local-packages\\Python39\\site-packages\\sklearn\\linear_model\\_sag.py:350: ConvergenceWarning: The max_iter was reached which means the coef_ did not converge\n",
      "  warnings.warn(\n"
     ]
    },
    {
     "data": {
      "text/plain": [
       "'Accuracy Concatentated :'"
      ]
     },
     "metadata": {},
     "output_type": "display_data"
    },
    {
     "data": {
      "text/plain": [
       "0.38083832335329343"
      ]
     },
     "metadata": {},
     "output_type": "display_data"
    },
    {
     "data": {
      "text/plain": [
       "'Accuracy Strucutured :'"
      ]
     },
     "metadata": {},
     "output_type": "display_data"
    },
    {
     "data": {
      "text/plain": [
       "0.3413173652694611"
      ]
     },
     "metadata": {},
     "output_type": "display_data"
    },
    {
     "data": {
      "text/plain": [
       "'Accuracy Unstrucutred :'"
      ]
     },
     "metadata": {},
     "output_type": "display_data"
    },
    {
     "data": {
      "text/plain": [
       "0.6359281437125749"
      ]
     },
     "metadata": {},
     "output_type": "display_data"
    }
   ],
   "source": [
    "from IPython.display import display\n",
    "from sklearn.metrics import accuracy_score\n",
    "model_lr_concat = LogisticRegression(multi_class='multinomial', random_state=random_number, penalty=\"l2\", solver='newton-cg', max_iter=200)\n",
    "model_lr_strut = LogisticRegression(multi_class='multinomial', random_state=random_number, penalty=\"l2\", solver='newton-cg', max_iter=200)\n",
    "model_lr_unstrut = LogisticRegression(multi_class='multinomial', random_state=random_number, penalty=\"none\",solver='saga', max_iter=200)\n",
    "\n",
    "model_lr_concat.fit(train_concate_x, y_train_un)\n",
    "model_lr_strut.fit(X_train_sturt, y_train_un)\n",
    "model_lr_unstrut.fit(X_train_un, y_train_un)\n",
    "\n",
    "y_pred_concat_lr = model_lr_concat.predict(test_concate_x)\n",
    "y_pred_strut_lr = model_lr_strut.predict(X_test_strut)\n",
    "y_pred_unstrut_lr = model_lr_unstrut.predict(X_test_un)\n",
    "\n",
    "score_concat_lr = accuracy_score(y_test_un,y_pred_concat_lr)\n",
    "score_strut_lr = accuracy_score(y_test_un,y_pred_strut_lr)\n",
    "score_unstrut_lr = accuracy_score(y_test_un,y_pred_unstrut_lr)\n",
    "\n",
    "display(\"Accuracy Concatentated :\", score_concat_lr)\n",
    "display(\"Accuracy Strucutured :\", score_strut_lr)\n",
    "display(\"Accuracy Unstrucutred :\", score_unstrut_lr)"
   ]
  },
  {
   "cell_type": "markdown",
   "metadata": {},
   "source": [
    "# Random Forest Classifier"
   ]
  },
  {
   "cell_type": "code",
   "execution_count": 49,
   "metadata": {},
   "outputs": [
    {
     "data": {
      "text/plain": [
       "'Accuracy Concatentated :'"
      ]
     },
     "metadata": {},
     "output_type": "display_data"
    },
    {
     "data": {
      "text/plain": [
       "0.5988023952095808"
      ]
     },
     "metadata": {},
     "output_type": "display_data"
    },
    {
     "data": {
      "text/plain": [
       "'Accuracy Strucutured :'"
      ]
     },
     "metadata": {},
     "output_type": "display_data"
    },
    {
     "data": {
      "text/plain": [
       "0.9437125748502994"
      ]
     },
     "metadata": {},
     "output_type": "display_data"
    },
    {
     "data": {
      "text/plain": [
       "'Accuracy Unstrucutred :'"
      ]
     },
     "metadata": {},
     "output_type": "display_data"
    },
    {
     "data": {
      "text/plain": [
       "0.5245508982035928"
      ]
     },
     "metadata": {},
     "output_type": "display_data"
    }
   ],
   "source": [
    "from sklearn.ensemble import RandomForestClassifier\n",
    "\n",
    "model_rf_concat = RandomForestClassifier(random_state=random_number, n_estimators=2000, bootstrap=False)\n",
    "model_rf_strut = RandomForestClassifier(random_state=random_number, n_estimators=2000, bootstrap=False)\n",
    "model_rf_unstrut = RandomForestClassifier(random_state=random_number, n_estimators=2000, bootstrap=False)\n",
    "\n",
    "model_rf_concat.fit(train_concate_x, y_train_un)\n",
    "model_rf_strut.fit(X_train_sturt, y_train_un)\n",
    "model_rf_unstrut.fit(X_train_un, y_train_un)\n",
    "\n",
    "y_pred_concat_rf = model_rf_concat.predict(test_concate_x)\n",
    "y_pred_strut_rf = model_rf_strut.predict(X_test_strut)\n",
    "y_pred_unstrut_rf = model_rf_unstrut.predict(X_test_un)\n",
    "\n",
    "score_concat_rf = accuracy_score(y_test_un,y_pred_concat_rf)\n",
    "score_strut_rf = accuracy_score(y_test_un,y_pred_strut_rf)\n",
    "score_unstrut_rf = accuracy_score(y_test_un,y_pred_unstrut_rf)\n",
    "\n",
    "display(\"Accuracy Concatentated :\", score_concat_rf)\n",
    "display(\"Accuracy Strucutured :\", score_strut_rf)\n",
    "display(\"Accuracy Unstrucutred :\", score_unstrut_rf)\n"
   ]
  },
  {
   "cell_type": "markdown",
   "metadata": {},
   "source": [
    "# Support Vector Classification"
   ]
  },
  {
   "cell_type": "code",
   "execution_count": 50,
   "metadata": {},
   "outputs": [
    {
     "data": {
      "text/plain": [
       "'Accuracy Concatentated :'"
      ]
     },
     "metadata": {},
     "output_type": "display_data"
    },
    {
     "data": {
      "text/plain": [
       "0.7137724550898203"
      ]
     },
     "metadata": {},
     "output_type": "display_data"
    },
    {
     "data": {
      "text/plain": [
       "'Accuracy Strucutured :'"
      ]
     },
     "metadata": {},
     "output_type": "display_data"
    },
    {
     "data": {
      "text/plain": [
       "0.4994011976047904"
      ]
     },
     "metadata": {},
     "output_type": "display_data"
    },
    {
     "data": {
      "text/plain": [
       "'Accuracy Unstrucutred :'"
      ]
     },
     "metadata": {},
     "output_type": "display_data"
    },
    {
     "data": {
      "text/plain": [
       "0.7089820359281437"
      ]
     },
     "metadata": {},
     "output_type": "display_data"
    }
   ],
   "source": [
    "from sklearn.pipeline import make_pipeline\n",
    "from sklearn.preprocessing import StandardScaler\n",
    "from sklearn.svm import SVC\n",
    "\n",
    "model_svc_concat = make_pipeline(StandardScaler(), SVC(kernel='linear', decision_function_shape='ovo'))\n",
    "model_svc_strut = make_pipeline(StandardScaler(), SVC(kernel='rbf', decision_function_shape='ovo'))\n",
    "model_svc_unstrut = make_pipeline(StandardScaler(), SVC(kernel='linear', decision_function_shape='ovo'))\n",
    "\n",
    "model_svc_concat.fit(train_concate_x, y_train_un)\n",
    "model_svc_strut.fit(X_train_sturt, y_train_un)\n",
    "model_svc_unstrut.fit(X_train_un, y_train_un)\n",
    "\n",
    "y_pred_concat_svc = model_svc_concat.predict(test_concate_x)\n",
    "y_pred_strut_svc = model_svc_strut.predict(X_test_strut)\n",
    "y_pred_unstrut_svc = model_svc_unstrut.predict(X_test_un)\n",
    "\n",
    "score_concat_svc = accuracy_score(y_test_un,y_pred_concat_svc)\n",
    "score_strut_svc = accuracy_score(y_test_un,y_pred_strut_svc)\n",
    "score_unstrut_svc = accuracy_score(y_test_un,y_pred_unstrut_svc)\n",
    "\n",
    "display(\"Accuracy Concatentated :\", score_concat_svc)\n",
    "display(\"Accuracy Strucutured :\", score_strut_svc)\n",
    "display(\"Accuracy Unstrucutred :\", score_unstrut_svc)\n"
   ]
  },
  {
   "cell_type": "markdown",
   "metadata": {},
   "source": [
    "# Deep Learning Model for Concatenated Datasets"
   ]
  },
  {
   "cell_type": "code",
   "execution_count": 51,
   "metadata": {},
   "outputs": [
    {
     "name": "stdout",
     "output_type": "stream",
     "text": [
      "Epoch 1/100\n",
      "55/55 [==============================] - 7s 23ms/step - loss: 2.2942 - accuracy: 0.1557 - val_loss: 2.2972 - val_accuracy: 0.1282\n",
      "Epoch 2/100\n",
      "55/55 [==============================] - 1s 11ms/step - loss: 2.1951 - accuracy: 0.2196 - val_loss: 2.2893 - val_accuracy: 0.1590\n",
      "Epoch 3/100\n",
      "55/55 [==============================] - 0s 8ms/step - loss: 2.1357 - accuracy: 0.2327 - val_loss: 2.2240 - val_accuracy: 0.2051\n",
      "Epoch 4/100\n",
      "55/55 [==============================] - 0s 7ms/step - loss: 2.1040 - accuracy: 0.2675 - val_loss: 2.2118 - val_accuracy: 0.1949\n",
      "Epoch 5/100\n",
      "55/55 [==============================] - 0s 7ms/step - loss: 2.0468 - accuracy: 0.2886 - val_loss: 2.2628 - val_accuracy: 0.1846\n",
      "Epoch 6/100\n",
      "55/55 [==============================] - 0s 7ms/step - loss: 2.0305 - accuracy: 0.3029 - val_loss: 2.1764 - val_accuracy: 0.2051\n",
      "Epoch 7/100\n",
      "55/55 [==============================] - 0s 7ms/step - loss: 1.9817 - accuracy: 0.3206 - val_loss: 2.2661 - val_accuracy: 0.1692\n",
      "Epoch 8/100\n",
      "55/55 [==============================] - 0s 7ms/step - loss: 1.9454 - accuracy: 0.3417 - val_loss: 2.2293 - val_accuracy: 0.1538\n",
      "Epoch 9/100\n",
      "55/55 [==============================] - 0s 7ms/step - loss: 1.9208 - accuracy: 0.3269 - val_loss: 2.2176 - val_accuracy: 0.2205\n",
      "Epoch 10/100\n",
      "55/55 [==============================] - 0s 7ms/step - loss: 1.9153 - accuracy: 0.3320 - val_loss: 2.1119 - val_accuracy: 0.2308\n",
      "Epoch 11/100\n",
      "55/55 [==============================] - 0s 7ms/step - loss: 1.8461 - accuracy: 0.3605 - val_loss: 2.1659 - val_accuracy: 0.2000\n",
      "Epoch 12/100\n",
      "55/55 [==============================] - 0s 7ms/step - loss: 1.8046 - accuracy: 0.3868 - val_loss: 2.4605 - val_accuracy: 0.1333\n",
      "Epoch 13/100\n",
      "55/55 [==============================] - 0s 9ms/step - loss: 1.8042 - accuracy: 0.3759 - val_loss: 2.4023 - val_accuracy: 0.1333\n",
      "Epoch 14/100\n",
      "55/55 [==============================] - 1s 9ms/step - loss: 1.8201 - accuracy: 0.3697 - val_loss: 2.5765 - val_accuracy: 0.1846\n",
      "Epoch 15/100\n",
      "55/55 [==============================] - 0s 7ms/step - loss: 1.7921 - accuracy: 0.3736 - val_loss: 3.0445 - val_accuracy: 0.2359\n",
      "Epoch 16/100\n",
      "55/55 [==============================] - 0s 7ms/step - loss: 1.7267 - accuracy: 0.4130 - val_loss: 2.0856 - val_accuracy: 0.2667\n",
      "Epoch 17/100\n",
      "55/55 [==============================] - 0s 7ms/step - loss: 1.7475 - accuracy: 0.3868 - val_loss: 2.1556 - val_accuracy: 0.2462\n",
      "Epoch 18/100\n",
      "55/55 [==============================] - 0s 8ms/step - loss: 1.7314 - accuracy: 0.4027 - val_loss: 3.0513 - val_accuracy: 0.1949\n",
      "Epoch 19/100\n",
      "55/55 [==============================] - 0s 6ms/step - loss: 1.6956 - accuracy: 0.4256 - val_loss: 2.3870 - val_accuracy: 0.1282\n",
      "Epoch 20/100\n",
      "55/55 [==============================] - 0s 7ms/step - loss: 1.6432 - accuracy: 0.4353 - val_loss: 2.2694 - val_accuracy: 0.1795\n",
      "Epoch 21/100\n",
      "55/55 [==============================] - 0s 7ms/step - loss: 1.5751 - accuracy: 0.4735 - val_loss: 2.5236 - val_accuracy: 0.1897\n",
      "Epoch 22/100\n",
      "55/55 [==============================] - 0s 7ms/step - loss: 1.5508 - accuracy: 0.4683 - val_loss: 6.9399 - val_accuracy: 0.1692\n",
      "Epoch 23/100\n",
      "55/55 [==============================] - 0s 7ms/step - loss: 1.5165 - accuracy: 0.4843 - val_loss: 2.3701 - val_accuracy: 0.2205\n",
      "Epoch 24/100\n",
      "55/55 [==============================] - 0s 8ms/step - loss: 1.4925 - accuracy: 0.4894 - val_loss: 3.6406 - val_accuracy: 0.1949\n",
      "Epoch 25/100\n",
      "55/55 [==============================] - 0s 8ms/step - loss: 1.4343 - accuracy: 0.5322 - val_loss: 2.5460 - val_accuracy: 0.3179\n",
      "Epoch 26/100\n",
      "55/55 [==============================] - 1s 10ms/step - loss: 1.3831 - accuracy: 0.5351 - val_loss: 2.6153 - val_accuracy: 0.1744\n",
      "Epoch 27/100\n",
      "55/55 [==============================] - 1s 11ms/step - loss: 1.3423 - accuracy: 0.5562 - val_loss: 3.1632 - val_accuracy: 0.1538\n",
      "Epoch 28/100\n",
      "55/55 [==============================] - 0s 8ms/step - loss: 1.3608 - accuracy: 0.5305 - val_loss: 3.1249 - val_accuracy: 0.1641\n",
      "Epoch 29/100\n",
      "55/55 [==============================] - 0s 7ms/step - loss: 1.2658 - accuracy: 0.5687 - val_loss: 5.7430 - val_accuracy: 0.2154\n",
      "Epoch 30/100\n",
      "55/55 [==============================] - 0s 7ms/step - loss: 1.2318 - accuracy: 0.5978 - val_loss: 3.3635 - val_accuracy: 0.2410\n",
      "Epoch 31/100\n",
      "55/55 [==============================] - 0s 7ms/step - loss: 1.2338 - accuracy: 0.5916 - val_loss: 2.3111 - val_accuracy: 0.3026\n",
      "Epoch 32/100\n",
      "55/55 [==============================] - 0s 7ms/step - loss: 1.1638 - accuracy: 0.6121 - val_loss: 3.8806 - val_accuracy: 0.1231\n",
      "Epoch 33/100\n",
      "55/55 [==============================] - 0s 8ms/step - loss: 1.1080 - accuracy: 0.6189 - val_loss: 2.7098 - val_accuracy: 0.2256\n",
      "Epoch 34/100\n",
      "55/55 [==============================] - 0s 7ms/step - loss: 1.0466 - accuracy: 0.6612 - val_loss: 3.1307 - val_accuracy: 0.1026\n",
      "Epoch 35/100\n",
      "55/55 [==============================] - 0s 8ms/step - loss: 1.0842 - accuracy: 0.6520 - val_loss: 5.5946 - val_accuracy: 0.1026\n",
      "Epoch 36/100\n",
      "55/55 [==============================] - 0s 6ms/step - loss: 1.0040 - accuracy: 0.6874 - val_loss: 5.6838 - val_accuracy: 0.1128\n",
      "Epoch 37/100\n",
      "55/55 [==============================] - 0s 7ms/step - loss: 1.0519 - accuracy: 0.6532 - val_loss: 12.7102 - val_accuracy: 0.1949\n",
      "Epoch 38/100\n",
      "55/55 [==============================] - 0s 6ms/step - loss: 0.9779 - accuracy: 0.6800 - val_loss: 5.8095 - val_accuracy: 0.2667\n",
      "Epoch 39/100\n",
      "55/55 [==============================] - 0s 7ms/step - loss: 0.9192 - accuracy: 0.7017 - val_loss: 11.6703 - val_accuracy: 0.1795\n",
      "Epoch 40/100\n",
      "55/55 [==============================] - 0s 8ms/step - loss: 0.9593 - accuracy: 0.6851 - val_loss: 9.1966 - val_accuracy: 0.1538\n",
      "Epoch 41/100\n",
      "55/55 [==============================] - 1s 10ms/step - loss: 0.9753 - accuracy: 0.6646 - val_loss: 6.9856 - val_accuracy: 0.1179\n",
      "Epoch 42/100\n",
      "55/55 [==============================] - 1s 10ms/step - loss: 0.9167 - accuracy: 0.6954 - val_loss: 5.1492 - val_accuracy: 0.1692\n",
      "Epoch 43/100\n",
      "55/55 [==============================] - 0s 7ms/step - loss: 0.8540 - accuracy: 0.7193 - val_loss: 6.8981 - val_accuracy: 0.0821\n",
      "Epoch 44/100\n",
      "55/55 [==============================] - 0s 7ms/step - loss: 0.8414 - accuracy: 0.7250 - val_loss: 7.5302 - val_accuracy: 0.1590\n",
      "Epoch 45/100\n",
      "55/55 [==============================] - 0s 7ms/step - loss: 0.8657 - accuracy: 0.7045 - val_loss: 4.7190 - val_accuracy: 0.1692\n",
      "Epoch 46/100\n",
      "55/55 [==============================] - 0s 7ms/step - loss: 0.8301 - accuracy: 0.7176 - val_loss: 4.0900 - val_accuracy: 0.2667\n",
      "Epoch 47/100\n",
      "55/55 [==============================] - 0s 7ms/step - loss: 0.7925 - accuracy: 0.7313 - val_loss: 5.2077 - val_accuracy: 0.1692\n",
      "Epoch 48/100\n",
      "55/55 [==============================] - 0s 7ms/step - loss: 0.7083 - accuracy: 0.7684 - val_loss: 7.1731 - val_accuracy: 0.1333\n",
      "Epoch 49/100\n",
      "55/55 [==============================] - 0s 7ms/step - loss: 0.7390 - accuracy: 0.7610 - val_loss: 8.2957 - val_accuracy: 0.1692\n",
      "Epoch 50/100\n",
      "55/55 [==============================] - ETA: 0s - loss: 0.6761 - accuracy: 0.7781Restoring model weights from the end of the best epoch: 25.\n",
      "55/55 [==============================] - 0s 7ms/step - loss: 0.6761 - accuracy: 0.7781 - val_loss: 4.4748 - val_accuracy: 0.1949\n",
      "Epoch 50: early stopping\n",
      "27/27 [==============================] - 0s 5ms/step\n",
      "27/27 [==============================] - 0s 4ms/step - loss: 2.5985 - accuracy: 0.3018\n"
     ]
    },
    {
     "data": {
      "text/plain": [
       "'Deep Learning Accuracy:'"
      ]
     },
     "metadata": {},
     "output_type": "display_data"
    },
    {
     "data": {
      "text/plain": [
       "0.30179640650749207"
      ]
     },
     "metadata": {},
     "output_type": "display_data"
    }
   ],
   "source": [
    "import keras\n",
    "from keras.models import Sequential\n",
    "from keras.layers import Dense, Dropout, BatchNormalization\n",
    "from keras.utils import to_categorical\n",
    "from keras.regularizers import l1\n",
    "from keras.callbacks import EarlyStopping\n",
    "\n",
    "num_classes = 10\n",
    "y_train_un1 = keras.utils.to_categorical(y_train_un, num_classes)\n",
    "y_test_un1 = keras.utils.to_categorical(y_test_un, num_classes)\n",
    "model_dl = Sequential()\n",
    "model_dl.add(Dense(64, activation='relu', input_shape=(train_concate_x.shape[1],)))\n",
    "model_dl.add(BatchNormalization())\n",
    "model_dl.add(Dense(32, activation='relu'))\n",
    "model_dl.add(BatchNormalization())\n",
    "model_dl.add(Dense(16, activation='relu'))\n",
    "\n",
    "\n",
    "\n",
    "model_dl.add(Dense(num_classes, activation='softmax'))\n",
    "early_stopping = EarlyStopping(monitor='val_accuracy', patience=25, verbose=1, restore_best_weights=True)\n",
    "\n",
    "# Compile the model\n",
    "model_dl.compile(loss='categorical_crossentropy', optimizer='adam', metrics=['accuracy'])\n",
    "\n",
    "# Train the model\n",
    "history = model_dl.fit(train_concate_x, y_train_un1, batch_size=32, epochs=100, validation_split=0.1,  callbacks=[early_stopping])\n",
    "\n",
    "# Evaluate the model on the test set\n",
    "y_pred_dl = model_dl.predict(test_concate_x)\n",
    "# Evaluate the model\n",
    "loss, accuracy = model_dl.evaluate(test_concate_x, y_test_un1)\n",
    "display(\"Deep Learning Accuracy:\", accuracy)"
   ]
  },
  {
   "cell_type": "code",
   "execution_count": 52,
   "metadata": {},
   "outputs": [
    {
     "data": {
      "image/png": "[encoded data removed]",
      "text/plain": [
       "<IPython.core.display.Image object>"
      ]
     },
     "execution_count": 52,
     "metadata": {},
     "output_type": "execute_result"
    }
   ],
   "source": [
    "from keras.utils.vis_utils import plot_model\n",
    "plot_model(model_dl, to_file='model_plot_early.png', show_shapes=True, show_layer_names=True,)"
   ]
  }
 ],
 "metadata": {
  "kernelspec": {
   "display_name": "Python 3",
   "language": "python",
   "name": "python3"
  },
  "language_info": {
   "codemirror_mode": {
    "name": "ipython",
    "version": 3
   },
   "file_extension": ".py",
   "mimetype": "text/x-python",
   "name": "python",
   "nbconvert_exporter": "python",
   "pygments_lexer": "ipython3",
   "version": "3.9.13"
  },
  "orig_nbformat": 4
 },
 "nbformat": 4,
 "nbformat_minor": 2
}
